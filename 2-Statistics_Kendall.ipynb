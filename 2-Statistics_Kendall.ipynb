{
 "cells": [
  {
   "cell_type": "markdown",
   "metadata": {
    "id": "ZUVFQyaNM-o_"
   },
   "source": [
    "# Amazon Beauty Products Review-Sentiment Analysis"
   ]
  },
  {
   "cell_type": "markdown",
   "metadata": {
    "id": "R8WliBJ_M-pB"
   },
   "source": [
    "## Import Necessary Libraries"
   ]
  },
  {
   "cell_type": "code",
   "execution_count": 1,
   "metadata": {
    "id": "gCZ-GGyNM-pC"
   },
   "outputs": [],
   "source": [
    "# Dataframe\n",
    "import pandas as pd\n",
    "\n",
    "# Array\n",
    "import numpy as np\n",
    "\n",
    "# Visualizations\n",
    "import matplotlib.pyplot as plt\n",
    "from matplotlib.colors import ListedColormap\n",
    "import seaborn as sns\n",
    "import matplotlib.colors as colors\n",
    "%matplotlib inline\n",
    "\n",
    "# Datetime\n",
    "from datetime import datetime\n",
    "\n",
    "## Warnings\n",
    "import warnings\n",
    "from scipy import stats\n",
    "warnings.filterwarnings('ignore')"
   ]
  },
  {
   "cell_type": "markdown",
   "metadata": {
    "id": "t9Fs6Kg3M-pD"
   },
   "source": [
    "## Reading the Inspected Dataset "
   ]
  },
  {
   "cell_type": "code",
   "execution_count": 2,
   "metadata": {
    "id": "6aMFB0hrM-pD"
   },
   "outputs": [],
   "source": [
    "# Read the file\n",
    "df2 = pd.read_csv('data_inspected.csv')"
   ]
  },
  {
   "cell_type": "code",
   "execution_count": 18,
   "metadata": {
    "colab": {
     "base_uri": "https://localhost:8080/",
     "height": 359
    },
    "id": "VY3vzdjlM-pE",
    "outputId": "51a4ae5b-b6dd-4055-c1c4-e308014b077f"
   },
   "outputs": [
    {
     "data": {
      "text/html": [
       "<div>\n",
       "<style scoped>\n",
       "    .dataframe tbody tr th:only-of-type {\n",
       "        vertical-align: middle;\n",
       "    }\n",
       "\n",
       "    .dataframe tbody tr th {\n",
       "        vertical-align: top;\n",
       "    }\n",
       "\n",
       "    .dataframe thead th {\n",
       "        text-align: right;\n",
       "    }\n",
       "</style>\n",
       "<table border=\"1\" class=\"dataframe\">\n",
       "  <thead>\n",
       "    <tr style=\"text-align: right;\">\n",
       "      <th></th>\n",
       "      <th>customer</th>\n",
       "      <th>product</th>\n",
       "      <th>rating</th>\n",
       "      <th>review_text</th>\n",
       "      <th>pos_feedback</th>\n",
       "      <th>neg_feedback</th>\n",
       "      <th>rating_class</th>\n",
       "      <th>time</th>\n",
       "    </tr>\n",
       "  </thead>\n",
       "  <tbody>\n",
       "    <tr>\n",
       "      <th>0</th>\n",
       "      <td>A6VPK7X53QNAQ</td>\n",
       "      <td>B0000CC64W</td>\n",
       "      <td>5.0</td>\n",
       "      <td>If I had to choose only one product to take ca...</td>\n",
       "      <td>5</td>\n",
       "      <td>0</td>\n",
       "      <td>good</td>\n",
       "      <td>2009-06-18</td>\n",
       "    </tr>\n",
       "    <tr>\n",
       "      <th>1</th>\n",
       "      <td>A3CHMHGSJSQ02J</td>\n",
       "      <td>B0000CC64W</td>\n",
       "      <td>5.0</td>\n",
       "      <td>Makes my skin lovely and smooth As a woman nea...</td>\n",
       "      <td>2</td>\n",
       "      <td>0</td>\n",
       "      <td>good</td>\n",
       "      <td>2013-01-18</td>\n",
       "    </tr>\n",
       "    <tr>\n",
       "      <th>2</th>\n",
       "      <td>A1V1EP514B5H7Y</td>\n",
       "      <td>B0000CC64W</td>\n",
       "      <td>5.0</td>\n",
       "      <td>Works well at a reasonable price I've used thi...</td>\n",
       "      <td>0</td>\n",
       "      <td>0</td>\n",
       "      <td>good</td>\n",
       "      <td>2011-11-29</td>\n",
       "    </tr>\n",
       "    <tr>\n",
       "      <th>3</th>\n",
       "      <td>A1X2LENOF84LCQ</td>\n",
       "      <td>B0000CC64W</td>\n",
       "      <td>4.0</td>\n",
       "      <td>This does work ladies I have tried so many pro...</td>\n",
       "      <td>62</td>\n",
       "      <td>13</td>\n",
       "      <td>good</td>\n",
       "      <td>2005-04-13</td>\n",
       "    </tr>\n",
       "    <tr>\n",
       "      <th>4</th>\n",
       "      <td>A2PATWWZAXHQYA</td>\n",
       "      <td>B0000CC64W</td>\n",
       "      <td>1.0</td>\n",
       "      <td>Did not like the feel/texture of this serum I ...</td>\n",
       "      <td>1</td>\n",
       "      <td>0</td>\n",
       "      <td>bad</td>\n",
       "      <td>2013-12-21</td>\n",
       "    </tr>\n",
       "    <tr>\n",
       "      <th>5</th>\n",
       "      <td>A3IOCPLIMYDBCD</td>\n",
       "      <td>B0000CC64W</td>\n",
       "      <td>5.0</td>\n",
       "      <td>Olay's Finest Olay Regenerist Daily Regenerati...</td>\n",
       "      <td>12</td>\n",
       "      <td>1</td>\n",
       "      <td>good</td>\n",
       "      <td>2009-07-04</td>\n",
       "    </tr>\n",
       "    <tr>\n",
       "      <th>6</th>\n",
       "      <td>A5A3C6XVDYUND</td>\n",
       "      <td>B0000CC64W</td>\n",
       "      <td>3.0</td>\n",
       "      <td>Not bad but not a miracle worker Having found ...</td>\n",
       "      <td>1</td>\n",
       "      <td>1</td>\n",
       "      <td>neutral</td>\n",
       "      <td>2013-02-18</td>\n",
       "    </tr>\n",
       "    <tr>\n",
       "      <th>7</th>\n",
       "      <td>A3V6Z4RCDGRC44</td>\n",
       "      <td>B0000CC64W</td>\n",
       "      <td>4.0</td>\n",
       "      <td>Nice Product - a Bit Greasy The Olay Regeneris...</td>\n",
       "      <td>6</td>\n",
       "      <td>1</td>\n",
       "      <td>good</td>\n",
       "      <td>2007-07-01</td>\n",
       "    </tr>\n",
       "    <tr>\n",
       "      <th>8</th>\n",
       "      <td>A2WW57XX2UVLM6</td>\n",
       "      <td>B0000CC64W</td>\n",
       "      <td>4.0</td>\n",
       "      <td>Clean and Easy I purchased this because it was...</td>\n",
       "      <td>0</td>\n",
       "      <td>0</td>\n",
       "      <td>good</td>\n",
       "      <td>2013-11-22</td>\n",
       "    </tr>\n",
       "    <tr>\n",
       "      <th>9</th>\n",
       "      <td>A3M7R4PD0FEPUB</td>\n",
       "      <td>B0000CC64W</td>\n",
       "      <td>5.0</td>\n",
       "      <td>Noticed a difference immediately The first thi...</td>\n",
       "      <td>2</td>\n",
       "      <td>1</td>\n",
       "      <td>good</td>\n",
       "      <td>2009-09-28</td>\n",
       "    </tr>\n",
       "  </tbody>\n",
       "</table>\n",
       "</div>"
      ],
      "text/plain": [
       "         customer     product  rating  ... neg_feedback  rating_class        time\n",
       "0   A6VPK7X53QNAQ  B0000CC64W     5.0  ...            0          good  2009-06-18\n",
       "1  A3CHMHGSJSQ02J  B0000CC64W     5.0  ...            0          good  2013-01-18\n",
       "2  A1V1EP514B5H7Y  B0000CC64W     5.0  ...            0          good  2011-11-29\n",
       "3  A1X2LENOF84LCQ  B0000CC64W     4.0  ...           13          good  2005-04-13\n",
       "4  A2PATWWZAXHQYA  B0000CC64W     1.0  ...            0           bad  2013-12-21\n",
       "5  A3IOCPLIMYDBCD  B0000CC64W     5.0  ...            1          good  2009-07-04\n",
       "6   A5A3C6XVDYUND  B0000CC64W     3.0  ...            1       neutral  2013-02-18\n",
       "7  A3V6Z4RCDGRC44  B0000CC64W     4.0  ...            1          good  2007-07-01\n",
       "8  A2WW57XX2UVLM6  B0000CC64W     4.0  ...            0          good  2013-11-22\n",
       "9  A3M7R4PD0FEPUB  B0000CC64W     5.0  ...            1          good  2009-09-28\n",
       "\n",
       "[10 rows x 8 columns]"
      ]
     },
     "execution_count": 18,
     "metadata": {
      "tags": []
     },
     "output_type": "execute_result"
    }
   ],
   "source": [
    "# Sample observations\n",
    "df2.head(10)"
   ]
  },
  {
   "cell_type": "code",
   "execution_count": 19,
   "metadata": {
    "id": "aHsypnH-R-sw"
   },
   "outputs": [],
   "source": [
    "new_df=df2[['rating','pos_feedback','neg_feedback','rating_class']]"
   ]
  },
  {
   "cell_type": "code",
   "execution_count": 12,
   "metadata": {
    "colab": {
     "base_uri": "https://localhost:8080/"
    },
    "id": "MXMYV4SfOpFk",
    "outputId": "424acac3-055f-48f1-9f12-c5ff289a0baf"
   },
   "outputs": [
    {
     "name": "stdout",
     "output_type": "stream",
     "text": [
      "<class 'pandas.core.frame.DataFrame'>\n",
      "RangeIndex: 28576 entries, 0 to 28575\n",
      "Data columns (total 8 columns):\n",
      " #   Column        Non-Null Count  Dtype  \n",
      "---  ------        --------------  -----  \n",
      " 0   customer      28576 non-null  object \n",
      " 1   product       28576 non-null  object \n",
      " 2   rating        28576 non-null  float64\n",
      " 3   review_text   28576 non-null  object \n",
      " 4   pos_feedback  28576 non-null  int64  \n",
      " 5   neg_feedback  28576 non-null  int64  \n",
      " 6   rating_class  28576 non-null  object \n",
      " 7   time          28576 non-null  object \n",
      "dtypes: float64(1), int64(2), object(5)\n",
      "memory usage: 1.7+ MB\n"
     ]
    }
   ],
   "source": [
    "df2.info()"
   ]
  },
  {
   "cell_type": "code",
   "execution_count": 17,
   "metadata": {
    "colab": {
     "base_uri": "https://localhost:8080/"
    },
    "id": "gynd_PjPOrwh",
    "outputId": "623dd63f-0fbd-4b7f-9a9d-c4af96a8df35"
   },
   "outputs": [
    {
     "data": {
      "text/plain": [
       "ALNFHVS3SC4FV     177\n",
       "A1UQBFCERIP7VJ    120\n",
       "A2P739KOM4U5JB    113\n",
       "A3NHUQ33CFH3VM    111\n",
       "AEL6CQNQXONBX     107\n",
       "                 ... \n",
       "A25CGBLRJB6X0S      9\n",
       "A23P5BO1UGNIRR      9\n",
       "A16EIVIBBXFAQ0      9\n",
       "A1APK6FWZC13B       9\n",
       "ADVSW4W1HHYF7       9\n",
       "Name: customer, Length: 1340, dtype: int64"
      ]
     },
     "execution_count": 17,
     "metadata": {
      "tags": []
     },
     "output_type": "execute_result"
    }
   ],
   "source": [
    "df2.customer.value_counts()"
   ]
  },
  {
   "cell_type": "markdown",
   "metadata": {
    "id": "zDrbV7hpM-pF"
   },
   "source": [
    "## Descriptive Statistics "
   ]
  },
  {
   "cell_type": "code",
   "execution_count": 4,
   "metadata": {
    "colab": {
     "base_uri": "https://localhost:8080/",
     "height": 297
    },
    "id": "edQfZ7rfM-pF",
    "outputId": "0c44124d-3e07-4ef0-984b-cce5dd158131"
   },
   "outputs": [
    {
     "data": {
      "text/html": [
       "<div>\n",
       "<style scoped>\n",
       "    .dataframe tbody tr th:only-of-type {\n",
       "        vertical-align: middle;\n",
       "    }\n",
       "\n",
       "    .dataframe tbody tr th {\n",
       "        vertical-align: top;\n",
       "    }\n",
       "\n",
       "    .dataframe thead th {\n",
       "        text-align: right;\n",
       "    }\n",
       "</style>\n",
       "<table border=\"1\" class=\"dataframe\">\n",
       "  <thead>\n",
       "    <tr style=\"text-align: right;\">\n",
       "      <th></th>\n",
       "      <th>rating</th>\n",
       "      <th>pos_feedback</th>\n",
       "      <th>neg_feedback</th>\n",
       "    </tr>\n",
       "  </thead>\n",
       "  <tbody>\n",
       "    <tr>\n",
       "      <th>count</th>\n",
       "      <td>28576.000000</td>\n",
       "      <td>28576.000000</td>\n",
       "      <td>28576.000000</td>\n",
       "    </tr>\n",
       "    <tr>\n",
       "      <th>mean</th>\n",
       "      <td>4.170493</td>\n",
       "      <td>0.948488</td>\n",
       "      <td>0.324888</td>\n",
       "    </tr>\n",
       "    <tr>\n",
       "      <th>std</th>\n",
       "      <td>0.992277</td>\n",
       "      <td>6.829651</td>\n",
       "      <td>1.105870</td>\n",
       "    </tr>\n",
       "    <tr>\n",
       "      <th>min</th>\n",
       "      <td>1.000000</td>\n",
       "      <td>0.000000</td>\n",
       "      <td>0.000000</td>\n",
       "    </tr>\n",
       "    <tr>\n",
       "      <th>25%</th>\n",
       "      <td>4.000000</td>\n",
       "      <td>0.000000</td>\n",
       "      <td>0.000000</td>\n",
       "    </tr>\n",
       "    <tr>\n",
       "      <th>50%</th>\n",
       "      <td>4.000000</td>\n",
       "      <td>0.000000</td>\n",
       "      <td>0.000000</td>\n",
       "    </tr>\n",
       "    <tr>\n",
       "      <th>75%</th>\n",
       "      <td>5.000000</td>\n",
       "      <td>1.000000</td>\n",
       "      <td>0.000000</td>\n",
       "    </tr>\n",
       "    <tr>\n",
       "      <th>max</th>\n",
       "      <td>5.000000</td>\n",
       "      <td>549.000000</td>\n",
       "      <td>52.000000</td>\n",
       "    </tr>\n",
       "  </tbody>\n",
       "</table>\n",
       "</div>"
      ],
      "text/plain": [
       "             rating  pos_feedback  neg_feedback\n",
       "count  28576.000000  28576.000000  28576.000000\n",
       "mean       4.170493      0.948488      0.324888\n",
       "std        0.992277      6.829651      1.105870\n",
       "min        1.000000      0.000000      0.000000\n",
       "25%        4.000000      0.000000      0.000000\n",
       "50%        4.000000      0.000000      0.000000\n",
       "75%        5.000000      1.000000      0.000000\n",
       "max        5.000000    549.000000     52.000000"
      ]
     },
     "execution_count": 4,
     "metadata": {
      "tags": []
     },
     "output_type": "execute_result"
    }
   ],
   "source": [
    "# Read statistic summary of numeric variables\n",
    "df2.describe()"
   ]
  },
  {
   "cell_type": "code",
   "execution_count": 5,
   "metadata": {
    "colab": {
     "base_uri": "https://localhost:8080/"
    },
    "id": "Dc2WkEF2M-pG",
    "outputId": "a8833dd6-57e6-4b1f-8d10-63bd798b433e"
   },
   "outputs": [
    {
     "data": {
      "text/plain": [
       "5.0    13683\n",
       "4.0     8742\n",
       "3.0     4067\n",
       "2.0     1508\n",
       "1.0      576\n",
       "Name: rating, dtype: int64"
      ]
     },
     "execution_count": 5,
     "metadata": {
      "tags": []
     },
     "output_type": "execute_result"
    }
   ],
   "source": [
    "# Customer totals for each rating \n",
    "df2['rating'].value_counts()"
   ]
  },
  {
   "cell_type": "code",
   "execution_count": 6,
   "metadata": {
    "colab": {
     "base_uri": "https://localhost:8080/"
    },
    "id": "kdWEdI3iM-pG",
    "outputId": "ab3ba168-c9a8-402b-a10c-339358378339"
   },
   "outputs": [
    {
     "data": {
      "text/plain": [
       "good       22425\n",
       "neutral     4067\n",
       "bad         2084\n",
       "Name: rating_class, dtype: int64"
      ]
     },
     "execution_count": 6,
     "metadata": {
      "tags": []
     },
     "output_type": "execute_result"
    }
   ],
   "source": [
    "# Customer totals for each rating class\n",
    "df2['rating_class'].value_counts()"
   ]
  },
  {
   "cell_type": "code",
   "execution_count": 7,
   "metadata": {
    "colab": {
     "base_uri": "https://localhost:8080/"
    },
    "id": "LuQzHerIM-pG",
    "outputId": "06d19afb-14b8-468a-c07f-f663ccbb22d9"
   },
   "outputs": [
    {
     "name": "stdout",
     "output_type": "stream",
     "text": [
      "Number of positive feedbacks: 8397\n",
      "\n",
      "Number of negative feedbacks: 6078\n",
      "\n",
      "Number of no helpful feedbacks: 14101\n"
     ]
    }
   ],
   "source": [
    "# Print the number of positive feedback\n",
    "pos = len(df2[df2['pos_feedback'] > 0])\n",
    "print('Number of positive feedbacks: {}'.format(pos))\n",
    "\n",
    "# Print the number of negative feedback\n",
    "neg = len(df2[df2['neg_feedback'] > 0])      \n",
    "print('\\nNumber of negative feedbacks: {}'.format(neg))\n",
    "\n",
    "# Print the number of no 'helpful' feedback \n",
    "total = len(df2)\n",
    "print('\\nNumber of no helpful feedbacks: {}'.format(total - (pos + neg)))"
   ]
  },
  {
   "cell_type": "code",
   "execution_count": 8,
   "metadata": {
    "colab": {
     "base_uri": "https://localhost:8080/"
    },
    "id": "JUGynoq3M-pH",
    "outputId": "21147774-6997-4de2-b817-2faec8596940"
   },
   "outputs": [
    {
     "name": "stdout",
     "output_type": "stream",
     "text": [
      "\n",
      "Number of unique customers : 1340\n",
      "\n",
      "Number of unique products : 733\n",
      "\n",
      "Review per customer: 21.32537313432836\n",
      "\n",
      "Review per product: 38.9849931787176\n"
     ]
    }
   ],
   "source": [
    "# Statistics of non-numeric variables\n",
    "\n",
    "# Number of unique customers\n",
    "print('\\nNumber of unique customers : {}'.format(len(df2['customer'].unique())))\n",
    "      \n",
    "# Number of unique products\n",
    "print('\\nNumber of unique products : {}'.format(len(df2['product'].unique())))\n",
    "      \n",
    "# Review number per unique customer\n",
    "print('\\nReview per customer: {}'.format((len(df2)/len(df2['customer'].unique()))))      \n",
    "\n",
    "# Review number per unique product \n",
    "print('\\nReview per product: {}'.format((len(df2)/len(df2['product'].unique()))))     "
   ]
  },
  {
   "cell_type": "markdown",
   "metadata": {
    "id": "a4Es8kkzM-pH"
   },
   "source": [
    "**Descriptive Statistic Summary:**\n",
    "\n",
    "**- Rating Status:**\n",
    "\n",
    "28576 customer gives ratings and mean of the ratings is 4.17, which means that customers prefer to give high ratings for products. Standard deviation and percentiles also show that 1 and 2 ratings for products are rare. To be able to predict the ratings reasonably, we classified them as 'good', 'neutral', and 'bad' above. \n",
    "\n",
    "According to the statistics on rating stars:\n",
    "\n",
    "576 customers give 1 star \n",
    "\n",
    "1508 customers give 2 stars\n",
    "\n",
    "4067 customers give 3 stars\n",
    "\n",
    "8742  customers give 4 stars\n",
    "\n",
    "13683 customers give 5 stars\n",
    "\n",
    "\n",
    "On the other hand, if we look for the rating class, the picture is look like below.\n",
    "\n",
    "2084 customers give bad ratings\n",
    "\n",
    "4067 customers give neutral ratings\n",
    "\n",
    "22425 customers give good ratings\n",
    "\n",
    "**- Feedback Status**\n",
    "\n",
    "8397 customers find the given reviews logical and totally agree with them. They give positive feedbacks. The mean 0.9 and standard deviation is 6.8 whereas the highest positive feedback number for reviews is 549. That shows we may have some outliers in the dataset. \n",
    "\n",
    "6078 customers find the given reviews useless and don't aggree with the them. They give negative feedbacks. The mean 0.3 and standard deviation is 1.1 whereas the highest negative feedback number for reviews is 52.\n",
    "\n",
    "On the other hand 14101 customers don't give either positive or negative feedbacks for reviews. \n",
    "\n",
    "**- Non-numeric variables statistics:**\n",
    "\n",
    "We have 1340 unique customers and 733 products in this dataset. Each customers averagely give 21 reviews for products and on the other hand, there is averagely 40 reviews for each product in the website. \n",
    "\n",
    "On exploratory data analysis, we will check if there is a case for outliers by visualizing data. "
   ]
  },
  {
   "cell_type": "markdown",
   "metadata": {
    "id": "d3t2l-BdM-pI"
   },
   "source": [
    "# Inferential Statistics"
   ]
  },
  {
   "cell_type": "markdown",
   "metadata": {
    "id": "WmEJO5gaTfG4"
   },
   "source": [
    "Because of that in this dataset our input is numerical, and target is categorical we use Kendall Corelation Test to see the correlation between them."
   ]
  },
  {
   "cell_type": "markdown",
   "metadata": {
    "id": "b6nWCYDGTfhw"
   },
   "source": [
    "## Kendall Correlation"
   ]
  },
  {
   "cell_type": "code",
   "execution_count": 22,
   "metadata": {
    "id": "ITiIRj7uSeRf"
   },
   "outputs": [],
   "source": [
    "new_df=df2[['rating','pos_feedback','neg_feedback','rating_class']]"
   ]
  },
  {
   "cell_type": "code",
   "execution_count": 23,
   "metadata": {
    "id": "vIhiNe6FSguw"
   },
   "outputs": [],
   "source": [
    "new_df=new_df[new_df['rating_class']!='neutral']"
   ]
  },
  {
   "cell_type": "code",
   "execution_count": 24,
   "metadata": {
    "id": "iw6cJ5o-SryW"
   },
   "outputs": [],
   "source": [
    "mapping = {'good':1, 'bad':-1}\n",
    "new_df.rating_class=new_df.rating_class.map(mapping)"
   ]
  },
  {
   "cell_type": "code",
   "execution_count": 25,
   "metadata": {
    "colab": {
     "base_uri": "https://localhost:8080/",
     "height": 341
    },
    "id": "YqjERDQ6M-pI",
    "outputId": "67e402de-e8ef-423a-9bf7-daf0eeb08788"
   },
   "outputs": [
    {
     "data": {
      "image/png": "[encoded data removed]",
      "text/plain": [
       "<Figure size 432x288 with 2 Axes>"
      ]
     },
     "metadata": {
      "needs_background": "light",
      "tags": []
     },
     "output_type": "display_data"
    }
   ],
   "source": [
    "\n",
    "mask=np.array(new_df.corr(method='kendall'))\n",
    "mask[np.tril_indices_from(mask)] = False\n",
    "\n",
    "sns.heatmap(new_df.corr(method='kendall'), annot=True,mask=mask, vmax=.8, square=True, cmap='viridis', annot_kws={'size':10})\n",
    "\n",
    "plt.title('Kendall Correlation')\n",
    "plt.show()"
   ]
  }
 ],
 "metadata": {
  "colab": {
   "name": "2-Statistics.ipynb",
   "provenance": []
  },
  "kernelspec": {
   "display_name": "Python 3",
   "language": "python",
   "name": "python3"
  },
  "language_info": {
   "codemirror_mode": {
    "name": "ipython",
    "version": 3
   },
   "file_extension": ".py",
   "mimetype": "text/x-python",
   "name": "python",
   "nbconvert_exporter": "python",
   "pygments_lexer": "ipython3",
   "version": "3.7.4"
  }
 },
 "nbformat": 4,
 "nbformat_minor": 1
}
