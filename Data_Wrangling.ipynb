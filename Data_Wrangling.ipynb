{
 "cells": [
  {
   "cell_type": "markdown",
   "metadata": {},
   "source": [
    "# Amazon Beauty Products Review-Sentiment Analysis"
   ]
  },
  {
   "cell_type": "markdown",
   "metadata": {},
   "source": [
    "## Import Necessary Libraries"
   ]
  },
  {
   "cell_type": "code",
   "execution_count": 1,
   "metadata": {},
   "outputs": [],
   "source": [
    "# Dataframe\n",
    "import pandas as pd\n",
    "\n",
    "# Array\n",
    "import numpy as np\n",
    "\n",
    "# Decompress the file\n",
    "import gzip\n",
    "\n",
    "# Visualizations\n",
    "import matplotlib.pyplot as plt\n",
    "from matplotlib.colors import ListedColormap\n",
    "import seaborn as sns\n",
    "import matplotlib.colors as colors\n",
    "%matplotlib inline\n",
    "\n",
    "# Datetime\n",
    "from datetime import datetime\n",
    "\n",
    "## Warnings\n",
    "import warnings\n",
    "from scipy import stats\n",
    "warnings.filterwarnings('ignore')"
   ]
  },
  {
   "cell_type": "markdown",
   "metadata": {},
   "source": [
    "## Decompress the Amazon Review Dataset "
   ]
  },
  {
   "cell_type": "markdown",
   "metadata": {},
   "source": [
    "The dataset is obtained from http://snap.stanford.edu/data/amazon/productGraph/categoryFiles/reviews_Beauty_10.json.gz link and uploaded into Jupyter notebook via the following code. "
   ]
  },
  {
   "cell_type": "code",
   "execution_count": 2,
   "metadata": {},
   "outputs": [],
   "source": [
    "def parse(path):\n",
    "    g = gzip.open(path, 'rb')\n",
    "    for l in g:\n",
    "        yield eval(l)\n",
    "\n",
    "def getDF(path):\n",
    "    i = 0\n",
    "    df = {}\n",
    "    for d in parse(path):\n",
    "        df[i] = d\n",
    "        i += 1\n",
    "    return pd.DataFrame.from_dict(df, orient='index')\n",
    "\n",
    "df = getDF('C:/users/eturk/Data_Science/Capstone_Project-Sentiment_Analysis/Dataset/reviews_Beauty_10.json.gz')"
   ]
  },
  {
   "cell_type": "markdown",
   "metadata": {},
   "source": [
    "## Inspecting the Dataset"
   ]
  },
  {
   "cell_type": "code",
   "execution_count": 3,
   "metadata": {},
   "outputs": [
    {
     "data": {
      "text/plain": [
       "(28798, 9)"
      ]
     },
     "execution_count": 3,
     "metadata": {},
     "output_type": "execute_result"
    }
   ],
   "source": [
    "# Shape of the dataset\n",
    "df.shape"
   ]
  },
  {
   "cell_type": "code",
   "execution_count": 4,
   "metadata": {},
   "outputs": [
    {
     "data": {
      "text/html": [
       "<div>\n",
       "<style scoped>\n",
       "    .dataframe tbody tr th:only-of-type {\n",
       "        vertical-align: middle;\n",
       "    }\n",
       "\n",
       "    .dataframe tbody tr th {\n",
       "        vertical-align: top;\n",
       "    }\n",
       "\n",
       "    .dataframe thead th {\n",
       "        text-align: right;\n",
       "    }\n",
       "</style>\n",
       "<table border=\"1\" class=\"dataframe\">\n",
       "  <thead>\n",
       "    <tr style=\"text-align: right;\">\n",
       "      <th></th>\n",
       "      <th>reviewerID</th>\n",
       "      <th>asin</th>\n",
       "      <th>reviewerName</th>\n",
       "      <th>helpful</th>\n",
       "      <th>reviewText</th>\n",
       "      <th>overall</th>\n",
       "      <th>summary</th>\n",
       "      <th>unixReviewTime</th>\n",
       "      <th>reviewTime</th>\n",
       "    </tr>\n",
       "  </thead>\n",
       "  <tbody>\n",
       "    <tr>\n",
       "      <th>0</th>\n",
       "      <td>A6VPK7X53QNAQ</td>\n",
       "      <td>B0000CC64W</td>\n",
       "      <td>AmazonDiva \"Keep Calm and Carry On.\"</td>\n",
       "      <td>[5, 5]</td>\n",
       "      <td>I am a devotee to this serum, it does wonders ...</td>\n",
       "      <td>5.0</td>\n",
       "      <td>If I had to choose only one product to take ca...</td>\n",
       "      <td>1245283200</td>\n",
       "      <td>06 18, 2009</td>\n",
       "    </tr>\n",
       "    <tr>\n",
       "      <th>1</th>\n",
       "      <td>A3CHMHGSJSQ02J</td>\n",
       "      <td>B0000CC64W</td>\n",
       "      <td>Anon. A. Non</td>\n",
       "      <td>[2, 2]</td>\n",
       "      <td>As a woman nearing 50, I need all the help I c...</td>\n",
       "      <td>5.0</td>\n",
       "      <td>Makes my skin lovely and smooth</td>\n",
       "      <td>1358467200</td>\n",
       "      <td>01 18, 2013</td>\n",
       "    </tr>\n",
       "    <tr>\n",
       "      <th>2</th>\n",
       "      <td>A1V1EP514B5H7Y</td>\n",
       "      <td>B0000CC64W</td>\n",
       "      <td>asiana</td>\n",
       "      <td>[0, 0]</td>\n",
       "      <td>I've used this regenerating serum for more tha...</td>\n",
       "      <td>5.0</td>\n",
       "      <td>Works well at a reasonable price</td>\n",
       "      <td>1322524800</td>\n",
       "      <td>11 29, 2011</td>\n",
       "    </tr>\n",
       "    <tr>\n",
       "      <th>3</th>\n",
       "      <td>A1X2LENOF84LCQ</td>\n",
       "      <td>B0000CC64W</td>\n",
       "      <td>D \"D\"</td>\n",
       "      <td>[62, 75]</td>\n",
       "      <td>I have tried so many products to just be total...</td>\n",
       "      <td>4.0</td>\n",
       "      <td>This does work ladies</td>\n",
       "      <td>1113350400</td>\n",
       "      <td>04 13, 2005</td>\n",
       "    </tr>\n",
       "    <tr>\n",
       "      <th>4</th>\n",
       "      <td>A2PATWWZAXHQYA</td>\n",
       "      <td>B0000CC64W</td>\n",
       "      <td>Farnoosh Brock</td>\n",
       "      <td>[1, 1]</td>\n",
       "      <td>I love Oil of Olay. My primary moisturizer is ...</td>\n",
       "      <td>1.0</td>\n",
       "      <td>Did not like the feel/texture of this serum</td>\n",
       "      <td>1387584000</td>\n",
       "      <td>12 21, 2013</td>\n",
       "    </tr>\n",
       "  </tbody>\n",
       "</table>\n",
       "</div>"
      ],
      "text/plain": [
       "       reviewerID        asin                          reviewerName   helpful  \\\n",
       "0   A6VPK7X53QNAQ  B0000CC64W  AmazonDiva \"Keep Calm and Carry On.\"    [5, 5]   \n",
       "1  A3CHMHGSJSQ02J  B0000CC64W                          Anon. A. Non    [2, 2]   \n",
       "2  A1V1EP514B5H7Y  B0000CC64W                                asiana    [0, 0]   \n",
       "3  A1X2LENOF84LCQ  B0000CC64W                                 D \"D\"  [62, 75]   \n",
       "4  A2PATWWZAXHQYA  B0000CC64W                        Farnoosh Brock    [1, 1]   \n",
       "\n",
       "                                          reviewText  overall  \\\n",
       "0  I am a devotee to this serum, it does wonders ...      5.0   \n",
       "1  As a woman nearing 50, I need all the help I c...      5.0   \n",
       "2  I've used this regenerating serum for more tha...      5.0   \n",
       "3  I have tried so many products to just be total...      4.0   \n",
       "4  I love Oil of Olay. My primary moisturizer is ...      1.0   \n",
       "\n",
       "                                             summary  unixReviewTime  \\\n",
       "0  If I had to choose only one product to take ca...      1245283200   \n",
       "1                    Makes my skin lovely and smooth      1358467200   \n",
       "2                   Works well at a reasonable price      1322524800   \n",
       "3                              This does work ladies      1113350400   \n",
       "4        Did not like the feel/texture of this serum      1387584000   \n",
       "\n",
       "    reviewTime  \n",
       "0  06 18, 2009  \n",
       "1  01 18, 2013  \n",
       "2  11 29, 2011  \n",
       "3  04 13, 2005  \n",
       "4  12 21, 2013  "
      ]
     },
     "execution_count": 4,
     "metadata": {},
     "output_type": "execute_result"
    }
   ],
   "source": [
    "# Read the file\n",
    "df.head()"
   ]
  },
  {
   "cell_type": "code",
   "execution_count": 5,
   "metadata": {},
   "outputs": [
    {
     "data": {
      "text/html": [
       "<div>\n",
       "<style scoped>\n",
       "    .dataframe tbody tr th:only-of-type {\n",
       "        vertical-align: middle;\n",
       "    }\n",
       "\n",
       "    .dataframe tbody tr th {\n",
       "        vertical-align: top;\n",
       "    }\n",
       "\n",
       "    .dataframe thead th {\n",
       "        text-align: right;\n",
       "    }\n",
       "</style>\n",
       "<table border=\"1\" class=\"dataframe\">\n",
       "  <thead>\n",
       "    <tr style=\"text-align: right;\">\n",
       "      <th></th>\n",
       "      <th>5852</th>\n",
       "      <th>27731</th>\n",
       "      <th>11654</th>\n",
       "      <th>26523</th>\n",
       "      <th>7304</th>\n",
       "      <th>18374</th>\n",
       "      <th>24471</th>\n",
       "      <th>3033</th>\n",
       "      <th>19999</th>\n",
       "      <th>23402</th>\n",
       "    </tr>\n",
       "  </thead>\n",
       "  <tbody>\n",
       "    <tr>\n",
       "      <th>reviewerID</th>\n",
       "      <td>A3M174IC0VXOS2</td>\n",
       "      <td>A2OWR5G2OAQF7C</td>\n",
       "      <td>A1X3ESYZ79H59E</td>\n",
       "      <td>ATJV9TWMRNF8K</td>\n",
       "      <td>AAPPWNP9FWVWS</td>\n",
       "      <td>A2O6IC9KWY8TQR</td>\n",
       "      <td>A3R5GTYQ50QVMD</td>\n",
       "      <td>A1P2XYD265YE21</td>\n",
       "      <td>A89ZZKNDFQH23</td>\n",
       "      <td>AKJ3P4XK1KN5Y</td>\n",
       "    </tr>\n",
       "    <tr>\n",
       "      <th>asin</th>\n",
       "      <td>B004INUWX0</td>\n",
       "      <td>B00JR4FOLA</td>\n",
       "      <td>B008GSY7UM</td>\n",
       "      <td>B00ID8H4OG</td>\n",
       "      <td>B005TI7NQ2</td>\n",
       "      <td>B00ATY942M</td>\n",
       "      <td>B00GYB17TC</td>\n",
       "      <td>B0027CT5SC</td>\n",
       "      <td>B00CYA5E1O</td>\n",
       "      <td>B00GTBZXTC</td>\n",
       "    </tr>\n",
       "    <tr>\n",
       "      <th>reviewerName</th>\n",
       "      <td>Gail Cooke</td>\n",
       "      <td>Sincerely Yours</td>\n",
       "      <td>chaos</td>\n",
       "      <td>Cathe Fein Olson</td>\n",
       "      <td>Kathlyn Storey \"Kathlyn A Storey\"</td>\n",
       "      <td>SassySavi \"VioLetskieZ\"</td>\n",
       "      <td>Robert 3086</td>\n",
       "      <td>Andrea \"Readaholic\"</td>\n",
       "      <td>Delaney</td>\n",
       "      <td>PhoenixFalls</td>\n",
       "    </tr>\n",
       "    <tr>\n",
       "      <th>helpful</th>\n",
       "      <td>[24, 28]</td>\n",
       "      <td>[0, 1]</td>\n",
       "      <td>[0, 0]</td>\n",
       "      <td>[1, 1]</td>\n",
       "      <td>[0, 0]</td>\n",
       "      <td>[2, 3]</td>\n",
       "      <td>[1, 2]</td>\n",
       "      <td>[0, 0]</td>\n",
       "      <td>[1, 3]</td>\n",
       "      <td>[0, 0]</td>\n",
       "    </tr>\n",
       "    <tr>\n",
       "      <th>reviewText</th>\n",
       "      <td>While this device takes some getting used to i...</td>\n",
       "      <td>Yikes.  What didn't I like about it:It was try...</td>\n",
       "      <td>This mirror has an adjustable stand. You can a...</td>\n",
       "      <td>I like this curling iron. It has a good heat r...</td>\n",
       "      <td>In my teens I was diagnosed with acne rosacea ...</td>\n",
       "      <td>The cleanser has a very light citrus scent but...</td>\n",
       "      <td>My wife used this for several days and liked i...</td>\n",
       "      <td>This moisturizing lotion smells good.  It smel...</td>\n",
       "      <td>I was really hoping this would be awesome, cos...</td>\n",
       "      <td>I have very fine, long, straight hair, which I...</td>\n",
       "    </tr>\n",
       "    <tr>\n",
       "      <th>overall</th>\n",
       "      <td>4</td>\n",
       "      <td>2</td>\n",
       "      <td>4</td>\n",
       "      <td>4</td>\n",
       "      <td>5</td>\n",
       "      <td>3</td>\n",
       "      <td>3</td>\n",
       "      <td>5</td>\n",
       "      <td>3</td>\n",
       "      <td>5</td>\n",
       "    </tr>\n",
       "    <tr>\n",
       "      <th>summary</th>\n",
       "      <td>a lot to be said for it</td>\n",
       "      <td>I really wanted to like this one</td>\n",
       "      <td>nice, but a bit bulky</td>\n",
       "      <td>Easy to use</td>\n",
       "      <td>Best five minutes of my day</td>\n",
       "      <td>Fresh cleanser</td>\n",
       "      <td>Didn't notice any change</td>\n",
       "      <td>Smells Awesome</td>\n",
       "      <td>So disappointed</td>\n",
       "      <td>Lovely product!</td>\n",
       "    </tr>\n",
       "    <tr>\n",
       "      <th>unixReviewTime</th>\n",
       "      <td>1301011200</td>\n",
       "      <td>1402790400</td>\n",
       "      <td>1363737600</td>\n",
       "      <td>1404000000</td>\n",
       "      <td>1358035200</td>\n",
       "      <td>1365206400</td>\n",
       "      <td>1394150400</td>\n",
       "      <td>1256256000</td>\n",
       "      <td>1378857600</td>\n",
       "      <td>1392854400</td>\n",
       "    </tr>\n",
       "    <tr>\n",
       "      <th>reviewTime</th>\n",
       "      <td>03 25, 2011</td>\n",
       "      <td>06 15, 2014</td>\n",
       "      <td>03 20, 2013</td>\n",
       "      <td>06 29, 2014</td>\n",
       "      <td>01 13, 2013</td>\n",
       "      <td>04 6, 2013</td>\n",
       "      <td>03 7, 2014</td>\n",
       "      <td>10 23, 2009</td>\n",
       "      <td>09 11, 2013</td>\n",
       "      <td>02 20, 2014</td>\n",
       "    </tr>\n",
       "  </tbody>\n",
       "</table>\n",
       "</div>"
      ],
      "text/plain": [
       "                                                            5852   \\\n",
       "reviewerID                                         A3M174IC0VXOS2   \n",
       "asin                                                   B004INUWX0   \n",
       "reviewerName                                           Gail Cooke   \n",
       "helpful                                                  [24, 28]   \n",
       "reviewText      While this device takes some getting used to i...   \n",
       "overall                                                         4   \n",
       "summary                                   a lot to be said for it   \n",
       "unixReviewTime                                         1301011200   \n",
       "reviewTime                                            03 25, 2011   \n",
       "\n",
       "                                                            27731  \\\n",
       "reviewerID                                         A2OWR5G2OAQF7C   \n",
       "asin                                                   B00JR4FOLA   \n",
       "reviewerName                                      Sincerely Yours   \n",
       "helpful                                                    [0, 1]   \n",
       "reviewText      Yikes.  What didn't I like about it:It was try...   \n",
       "overall                                                         2   \n",
       "summary                          I really wanted to like this one   \n",
       "unixReviewTime                                         1402790400   \n",
       "reviewTime                                            06 15, 2014   \n",
       "\n",
       "                                                            11654  \\\n",
       "reviewerID                                         A1X3ESYZ79H59E   \n",
       "asin                                                   B008GSY7UM   \n",
       "reviewerName                                                chaos   \n",
       "helpful                                                    [0, 0]   \n",
       "reviewText      This mirror has an adjustable stand. You can a...   \n",
       "overall                                                         4   \n",
       "summary                                     nice, but a bit bulky   \n",
       "unixReviewTime                                         1363737600   \n",
       "reviewTime                                            03 20, 2013   \n",
       "\n",
       "                                                            26523  \\\n",
       "reviewerID                                          ATJV9TWMRNF8K   \n",
       "asin                                                   B00ID8H4OG   \n",
       "reviewerName                                     Cathe Fein Olson   \n",
       "helpful                                                    [1, 1]   \n",
       "reviewText      I like this curling iron. It has a good heat r...   \n",
       "overall                                                         4   \n",
       "summary                                               Easy to use   \n",
       "unixReviewTime                                         1404000000   \n",
       "reviewTime                                            06 29, 2014   \n",
       "\n",
       "                                                            7304   \\\n",
       "reviewerID                                          AAPPWNP9FWVWS   \n",
       "asin                                                   B005TI7NQ2   \n",
       "reviewerName                    Kathlyn Storey \"Kathlyn A Storey\"   \n",
       "helpful                                                    [0, 0]   \n",
       "reviewText      In my teens I was diagnosed with acne rosacea ...   \n",
       "overall                                                         5   \n",
       "summary                               Best five minutes of my day   \n",
       "unixReviewTime                                         1358035200   \n",
       "reviewTime                                            01 13, 2013   \n",
       "\n",
       "                                                            18374  \\\n",
       "reviewerID                                         A2O6IC9KWY8TQR   \n",
       "asin                                                   B00ATY942M   \n",
       "reviewerName                              SassySavi \"VioLetskieZ\"   \n",
       "helpful                                                    [2, 3]   \n",
       "reviewText      The cleanser has a very light citrus scent but...   \n",
       "overall                                                         3   \n",
       "summary                                            Fresh cleanser   \n",
       "unixReviewTime                                         1365206400   \n",
       "reviewTime                                             04 6, 2013   \n",
       "\n",
       "                                                            24471  \\\n",
       "reviewerID                                         A3R5GTYQ50QVMD   \n",
       "asin                                                   B00GYB17TC   \n",
       "reviewerName                                          Robert 3086   \n",
       "helpful                                                    [1, 2]   \n",
       "reviewText      My wife used this for several days and liked i...   \n",
       "overall                                                         3   \n",
       "summary                                  Didn't notice any change   \n",
       "unixReviewTime                                         1394150400   \n",
       "reviewTime                                             03 7, 2014   \n",
       "\n",
       "                                                            3033   \\\n",
       "reviewerID                                         A1P2XYD265YE21   \n",
       "asin                                                   B0027CT5SC   \n",
       "reviewerName                                  Andrea \"Readaholic\"   \n",
       "helpful                                                    [0, 0]   \n",
       "reviewText      This moisturizing lotion smells good.  It smel...   \n",
       "overall                                                         5   \n",
       "summary                                            Smells Awesome   \n",
       "unixReviewTime                                         1256256000   \n",
       "reviewTime                                            10 23, 2009   \n",
       "\n",
       "                                                            19999  \\\n",
       "reviewerID                                          A89ZZKNDFQH23   \n",
       "asin                                                   B00CYA5E1O   \n",
       "reviewerName                                              Delaney   \n",
       "helpful                                                    [1, 3]   \n",
       "reviewText      I was really hoping this would be awesome, cos...   \n",
       "overall                                                         3   \n",
       "summary                                           So disappointed   \n",
       "unixReviewTime                                         1378857600   \n",
       "reviewTime                                            09 11, 2013   \n",
       "\n",
       "                                                            23402  \n",
       "reviewerID                                          AKJ3P4XK1KN5Y  \n",
       "asin                                                   B00GTBZXTC  \n",
       "reviewerName                                         PhoenixFalls  \n",
       "helpful                                                    [0, 0]  \n",
       "reviewText      I have very fine, long, straight hair, which I...  \n",
       "overall                                                         5  \n",
       "summary                                           Lovely product!  \n",
       "unixReviewTime                                         1392854400  \n",
       "reviewTime                                            02 20, 2014  "
      ]
     },
     "execution_count": 5,
     "metadata": {},
     "output_type": "execute_result"
    }
   ],
   "source": [
    "# Inspect the structure of the dataframe\n",
    "df.sample(10).transpose()"
   ]
  },
  {
   "cell_type": "code",
   "execution_count": 6,
   "metadata": {},
   "outputs": [
    {
     "data": {
      "text/plain": [
       "'The Continuous Hydration in this night moisturizer certainly lives up to its name. Hours later, after a good night\\'s sleep your skin will feel soft and smooth, if not a little bit slick. I found that the t-zone was a little greasy on me, so I have switched to using it only in specifically dry areas near the eyes and cheeks.It has a nice smooth feel to it and pleasant scent, but should be used for true dryness and might actually be too much for \"average\" skin. A little goes a long way, too.I would have preferred that it be packaged in a tube, since dipping in to the jar each evening is probably a bit more prone to leaving germs behind and causing it to degrade faster. Of course, that is a personal opinion, but I consider it something to think about.If you are looking for a super moisturizer and have very dry skin, this may be perfect for you. Those looking for a nice, light night cream might find it overwhelming.'"
      ]
     },
     "execution_count": 6,
     "metadata": {},
     "output_type": "execute_result"
    }
   ],
   "source": [
    "# Inspect a sample 'reviewText'\n",
    "df['reviewText'][2772]"
   ]
  },
  {
   "cell_type": "code",
   "execution_count": 7,
   "metadata": {},
   "outputs": [
    {
     "data": {
      "text/plain": [
       "'Nighttime soother...'"
      ]
     },
     "execution_count": 7,
     "metadata": {},
     "output_type": "execute_result"
    }
   ],
   "source": [
    "# Inspect a sample 'summary'\n",
    "df['summary'][2772]"
   ]
  },
  {
   "cell_type": "code",
   "execution_count": 8,
   "metadata": {},
   "outputs": [
    {
     "name": "stdout",
     "output_type": "stream",
     "text": [
      "<class 'pandas.core.frame.DataFrame'>\n",
      "Int64Index: 28798 entries, 0 to 28797\n",
      "Data columns (total 9 columns):\n",
      "reviewerID        28798 non-null object\n",
      "asin              28798 non-null object\n",
      "reviewerName      28576 non-null object\n",
      "helpful           28798 non-null object\n",
      "reviewText        28798 non-null object\n",
      "overall           28798 non-null float64\n",
      "summary           28798 non-null object\n",
      "unixReviewTime    28798 non-null int64\n",
      "reviewTime        28798 non-null object\n",
      "dtypes: float64(1), int64(1), object(7)\n",
      "memory usage: 3.4+ MB\n"
     ]
    }
   ],
   "source": [
    "# Basic information on Dataset\n",
    "df.info()"
   ]
  },
  {
   "cell_type": "markdown",
   "metadata": {},
   "source": [
    "**Each row corresponds to a customers' review information and related variables are explained below:**\n",
    "\n",
    "reviewerID : ID of the reviewer\n",
    "\n",
    "asin : ID of the product \n",
    "\n",
    "reviewerName : name of the reviewer \n",
    "\n",
    "helpful : helpfulness of the review, e.g. 2/3 \n",
    "\n",
    "reviewText : text of the review \n",
    "\n",
    "overall : rating \n",
    "\n",
    "summary : summary of the review \n",
    "\n",
    "unixReviewTime : time of the review (unix time) \n",
    "\n",
    "reviewTime : time of the review (raw) "
   ]
  },
  {
   "cell_type": "code",
   "execution_count": 9,
   "metadata": {},
   "outputs": [
    {
     "data": {
      "text/html": [
       "<div>\n",
       "<style scoped>\n",
       "    .dataframe tbody tr th:only-of-type {\n",
       "        vertical-align: middle;\n",
       "    }\n",
       "\n",
       "    .dataframe tbody tr th {\n",
       "        vertical-align: top;\n",
       "    }\n",
       "\n",
       "    .dataframe thead th {\n",
       "        text-align: right;\n",
       "    }\n",
       "</style>\n",
       "<table border=\"1\" class=\"dataframe\">\n",
       "  <thead>\n",
       "    <tr style=\"text-align: right;\">\n",
       "      <th></th>\n",
       "      <th>overall</th>\n",
       "      <th>unixReviewTime</th>\n",
       "    </tr>\n",
       "  </thead>\n",
       "  <tbody>\n",
       "    <tr>\n",
       "      <th>count</th>\n",
       "      <td>28798.000000</td>\n",
       "      <td>2.879800e+04</td>\n",
       "    </tr>\n",
       "    <tr>\n",
       "      <th>mean</th>\n",
       "      <td>4.168137</td>\n",
       "      <td>1.362445e+09</td>\n",
       "    </tr>\n",
       "    <tr>\n",
       "      <th>std</th>\n",
       "      <td>0.993920</td>\n",
       "      <td>4.214377e+07</td>\n",
       "    </tr>\n",
       "    <tr>\n",
       "      <th>min</th>\n",
       "      <td>1.000000</td>\n",
       "      <td>1.113350e+09</td>\n",
       "    </tr>\n",
       "    <tr>\n",
       "      <th>25%</th>\n",
       "      <td>4.000000</td>\n",
       "      <td>1.351123e+09</td>\n",
       "    </tr>\n",
       "    <tr>\n",
       "      <th>50%</th>\n",
       "      <td>4.000000</td>\n",
       "      <td>1.366070e+09</td>\n",
       "    </tr>\n",
       "    <tr>\n",
       "      <th>75%</th>\n",
       "      <td>5.000000</td>\n",
       "      <td>1.395274e+09</td>\n",
       "    </tr>\n",
       "    <tr>\n",
       "      <th>max</th>\n",
       "      <td>5.000000</td>\n",
       "      <td>1.406074e+09</td>\n",
       "    </tr>\n",
       "  </tbody>\n",
       "</table>\n",
       "</div>"
      ],
      "text/plain": [
       "            overall  unixReviewTime\n",
       "count  28798.000000    2.879800e+04\n",
       "mean       4.168137    1.362445e+09\n",
       "std        0.993920    4.214377e+07\n",
       "min        1.000000    1.113350e+09\n",
       "25%        4.000000    1.351123e+09\n",
       "50%        4.000000    1.366070e+09\n",
       "75%        5.000000    1.395274e+09\n",
       "max        5.000000    1.406074e+09"
      ]
     },
     "execution_count": 9,
     "metadata": {},
     "output_type": "execute_result"
    }
   ],
   "source": [
    "# Basic Statistics of the Dataset\n",
    "df.describe()"
   ]
  },
  {
   "cell_type": "code",
   "execution_count": 10,
   "metadata": {},
   "outputs": [
    {
     "data": {
      "text/plain": [
       "0.0"
      ]
     },
     "execution_count": 10,
     "metadata": {},
     "output_type": "execute_result"
    }
   ],
   "source": [
    "# Checking weirdness on the dataset \n",
    "df['overall'][df['overall']<1].sum()"
   ]
  },
  {
   "cell_type": "code",
   "execution_count": 11,
   "metadata": {},
   "outputs": [
    {
     "data": {
      "text/plain": [
       "0.0"
      ]
     },
     "execution_count": 11,
     "metadata": {},
     "output_type": "execute_result"
    }
   ],
   "source": [
    "df['overall'][df['overall']>5].sum()"
   ]
  },
  {
   "cell_type": "markdown",
   "metadata": {},
   "source": [
    "There is no rating out of defined 1-5 range. It makes sense. Let's see how many customers give ratings for each category. "
   ]
  },
  {
   "cell_type": "code",
   "execution_count": 12,
   "metadata": {},
   "outputs": [
    {
     "data": {
      "text/plain": [
       "5.0    13766\n",
       "4.0     8808\n",
       "3.0     4110\n",
       "2.0     1528\n",
       "1.0      586\n",
       "Name: overall, dtype: int64"
      ]
     },
     "execution_count": 12,
     "metadata": {},
     "output_type": "execute_result"
    }
   ],
   "source": [
    "# Customer totals for each rating \n",
    "df['overall'].value_counts()"
   ]
  },
  {
   "cell_type": "code",
   "execution_count": 13,
   "metadata": {},
   "outputs": [
    {
     "data": {
      "image/png": "[encoded data removed]",
      "text/plain": [
       "<Figure size 720x432 with 1 Axes>"
      ]
     },
     "metadata": {
      "needs_background": "light"
     },
     "output_type": "display_data"
    }
   ],
   "source": [
    "# Heatmap for missing values\n",
    "plt.figure(figsize = (10,6))\n",
    "sns.set()\n",
    "_ = sns.heatmap(df.isnull(), yticklabels = False, cbar = False, cmap = 'viridis')"
   ]
  },
  {
   "cell_type": "code",
   "execution_count": 14,
   "metadata": {},
   "outputs": [
    {
     "data": {
      "text/plain": [
       "reviewerID          0\n",
       "asin                0\n",
       "reviewerName      222\n",
       "helpful             0\n",
       "reviewText          0\n",
       "overall             0\n",
       "summary             0\n",
       "unixReviewTime      0\n",
       "reviewTime          0\n",
       "dtype: int64"
      ]
     },
     "execution_count": 14,
     "metadata": {},
     "output_type": "execute_result"
    }
   ],
   "source": [
    "# Check for missing values\n",
    "df.isnull().sum()"
   ]
  },
  {
   "cell_type": "markdown",
   "metadata": {},
   "source": [
    "**Some information about dataset so far:**\n",
    "\n",
    "This data includes 28798 rows(observations) and 9 columns(feature variables). \n",
    "\n",
    "Memory usage is 3.4+ MB. \n",
    "\n",
    "In the dataset, we have 7 object, 1 float64 and 1 int64 data types. \n",
    "\n",
    "222 'reviewerName' information is missing in the dataset. Since customer don't give their name, we should be suspicious about their reviews and ratings. I would prefer to drop the missing values from dataset  since we have enough observations to conclude a decision for sentiment analysis. \n",
    "\n",
    "We should concatenate 'reviewText' and 'summary' since both of them gives information about product, and also drop both 'reviewText' and 'summary' column at the end. \n",
    "\n",
    "'helpful' variable includes positive (thumbs up)  and negative (thumbs down) feedback for reviews' information, it will be splitted into two columns: positive feedback will be represented as \"pos_feedback\" , and negative feedback will be represented as \"neg_feedback\". Also, 'helpful' variable will be represented as an int64 type in the dataset via that step.\n",
    "\n",
    "We should classify the 'overall' (ratings) as good, neutral and bad in order to make sentiment analysis. \n",
    "\n",
    "In the dataset, 'reviewerID' and 'reviwerName' are both for identification of customer. We should drop one of them from the dataset. Preferably, I will drop 'reviewerName' since customer names are not standardized and there are lots of different sytle to represent them.\n",
    "\n",
    "'unixReviewTime' will be dropped since it has already been represented in 'reviewTime' feature in a more understandable format. Also, 'reviewTime' will be converted to datetime data type. \n",
    "\n",
    "We will rename the columns in order to improve practicality and the readibility of coding as stated below: \n",
    "\n",
    "- reviewerID : \"customer\"\n",
    "\n",
    "- asin : \"product\"\n",
    "\n",
    "- reviewerName : column will be dropped.\n",
    "\n",
    "- helpful : positive feedback will be represented as \"pos_feedback\" , neutral feedback will be represented as \"neut_feedback\" and negative feedback will be represented as \"neg_feedback\".\n",
    "\n",
    "- reviewText : This will be concatenated with \"summary\" and renamed as \"review_text\"\n",
    "\n",
    "- overall : \"rating\" \n",
    "\n",
    "- summary : it will be dropped after it is concatenated with \"reviewerText\".\n",
    "\n",
    "- unixReviewTime : column will be dropped. \n",
    "\n",
    "- reviewTime : \"time\"\n",
    "\n",
    "Now, we will practice all defined action items above. "
   ]
  },
  {
   "cell_type": "markdown",
   "metadata": {},
   "source": [
    "## Dropping Missing Values"
   ]
  },
  {
   "cell_type": "code",
   "execution_count": 15,
   "metadata": {},
   "outputs": [],
   "source": [
    "# Drop missing customers who don't give their names\n",
    "df2 = df.dropna(axis=0)"
   ]
  },
  {
   "cell_type": "code",
   "execution_count": 16,
   "metadata": {},
   "outputs": [
    {
     "data": {
      "text/plain": [
       "5.0    13683\n",
       "4.0     8742\n",
       "3.0     4067\n",
       "2.0     1508\n",
       "1.0      576\n",
       "Name: overall, dtype: int64"
      ]
     },
     "execution_count": 16,
     "metadata": {},
     "output_type": "execute_result"
    }
   ],
   "source": [
    "# Customer totals for each rating (after drop missing values)\n",
    "df2['overall'].value_counts()"
   ]
  },
  {
   "cell_type": "markdown",
   "metadata": {},
   "source": [
    "## Concatenating 'reviewText' and 'summary' columns"
   ]
  },
  {
   "cell_type": "code",
   "execution_count": 17,
   "metadata": {},
   "outputs": [
    {
     "data": {
      "text/html": [
       "<div>\n",
       "<style scoped>\n",
       "    .dataframe tbody tr th:only-of-type {\n",
       "        vertical-align: middle;\n",
       "    }\n",
       "\n",
       "    .dataframe tbody tr th {\n",
       "        vertical-align: top;\n",
       "    }\n",
       "\n",
       "    .dataframe thead th {\n",
       "        text-align: right;\n",
       "    }\n",
       "</style>\n",
       "<table border=\"1\" class=\"dataframe\">\n",
       "  <thead>\n",
       "    <tr style=\"text-align: right;\">\n",
       "      <th></th>\n",
       "      <th>reviewerID</th>\n",
       "      <th>asin</th>\n",
       "      <th>reviewerName</th>\n",
       "      <th>helpful</th>\n",
       "      <th>overall</th>\n",
       "      <th>unixReviewTime</th>\n",
       "      <th>reviewTime</th>\n",
       "      <th>review_text</th>\n",
       "    </tr>\n",
       "  </thead>\n",
       "  <tbody>\n",
       "    <tr>\n",
       "      <th>0</th>\n",
       "      <td>A6VPK7X53QNAQ</td>\n",
       "      <td>B0000CC64W</td>\n",
       "      <td>AmazonDiva \"Keep Calm and Carry On.\"</td>\n",
       "      <td>[5, 5]</td>\n",
       "      <td>5.0</td>\n",
       "      <td>1245283200</td>\n",
       "      <td>06 18, 2009</td>\n",
       "      <td>If I had to choose only one product to take ca...</td>\n",
       "    </tr>\n",
       "    <tr>\n",
       "      <th>1</th>\n",
       "      <td>A3CHMHGSJSQ02J</td>\n",
       "      <td>B0000CC64W</td>\n",
       "      <td>Anon. A. Non</td>\n",
       "      <td>[2, 2]</td>\n",
       "      <td>5.0</td>\n",
       "      <td>1358467200</td>\n",
       "      <td>01 18, 2013</td>\n",
       "      <td>Makes my skin lovely and smooth As a woman nea...</td>\n",
       "    </tr>\n",
       "    <tr>\n",
       "      <th>2</th>\n",
       "      <td>A1V1EP514B5H7Y</td>\n",
       "      <td>B0000CC64W</td>\n",
       "      <td>asiana</td>\n",
       "      <td>[0, 0]</td>\n",
       "      <td>5.0</td>\n",
       "      <td>1322524800</td>\n",
       "      <td>11 29, 2011</td>\n",
       "      <td>Works well at a reasonable price I've used thi...</td>\n",
       "    </tr>\n",
       "    <tr>\n",
       "      <th>3</th>\n",
       "      <td>A1X2LENOF84LCQ</td>\n",
       "      <td>B0000CC64W</td>\n",
       "      <td>D \"D\"</td>\n",
       "      <td>[62, 75]</td>\n",
       "      <td>4.0</td>\n",
       "      <td>1113350400</td>\n",
       "      <td>04 13, 2005</td>\n",
       "      <td>This does work ladies I have tried so many pro...</td>\n",
       "    </tr>\n",
       "    <tr>\n",
       "      <th>4</th>\n",
       "      <td>A2PATWWZAXHQYA</td>\n",
       "      <td>B0000CC64W</td>\n",
       "      <td>Farnoosh Brock</td>\n",
       "      <td>[1, 1]</td>\n",
       "      <td>1.0</td>\n",
       "      <td>1387584000</td>\n",
       "      <td>12 21, 2013</td>\n",
       "      <td>Did not like the feel/texture of this serum I ...</td>\n",
       "    </tr>\n",
       "  </tbody>\n",
       "</table>\n",
       "</div>"
      ],
      "text/plain": [
       "       reviewerID        asin                          reviewerName   helpful  \\\n",
       "0   A6VPK7X53QNAQ  B0000CC64W  AmazonDiva \"Keep Calm and Carry On.\"    [5, 5]   \n",
       "1  A3CHMHGSJSQ02J  B0000CC64W                          Anon. A. Non    [2, 2]   \n",
       "2  A1V1EP514B5H7Y  B0000CC64W                                asiana    [0, 0]   \n",
       "3  A1X2LENOF84LCQ  B0000CC64W                                 D \"D\"  [62, 75]   \n",
       "4  A2PATWWZAXHQYA  B0000CC64W                        Farnoosh Brock    [1, 1]   \n",
       "\n",
       "   overall  unixReviewTime   reviewTime  \\\n",
       "0      5.0      1245283200  06 18, 2009   \n",
       "1      5.0      1358467200  01 18, 2013   \n",
       "2      5.0      1322524800  11 29, 2011   \n",
       "3      4.0      1113350400  04 13, 2005   \n",
       "4      1.0      1387584000  12 21, 2013   \n",
       "\n",
       "                                         review_text  \n",
       "0  If I had to choose only one product to take ca...  \n",
       "1  Makes my skin lovely and smooth As a woman nea...  \n",
       "2  Works well at a reasonable price I've used thi...  \n",
       "3  This does work ladies I have tried so many pro...  \n",
       "4  Did not like the feel/texture of this serum I ...  "
      ]
     },
     "execution_count": 17,
     "metadata": {},
     "output_type": "execute_result"
    }
   ],
   "source": [
    "# Concatenate 'reviewText' and 'summary' as review_text and drop them \n",
    "df2['review_text'] = df[['summary', 'reviewText']].apply(lambda x: \" \".join(str(y) for y in x if str(y) != 'nan'), axis = 1)\n",
    "df2 = df2.drop(['reviewText', 'summary'], axis = 1)\n",
    "df2.head()"
   ]
  },
  {
   "cell_type": "markdown",
   "metadata": {},
   "source": [
    "## Spliting 'helpful' column into two separate columns"
   ]
  },
  {
   "cell_type": "code",
   "execution_count": 18,
   "metadata": {
    "scrolled": true
   },
   "outputs": [
    {
     "data": {
      "text/html": [
       "<div>\n",
       "<style scoped>\n",
       "    .dataframe tbody tr th:only-of-type {\n",
       "        vertical-align: middle;\n",
       "    }\n",
       "\n",
       "    .dataframe tbody tr th {\n",
       "        vertical-align: top;\n",
       "    }\n",
       "\n",
       "    .dataframe thead th {\n",
       "        text-align: right;\n",
       "    }\n",
       "</style>\n",
       "<table border=\"1\" class=\"dataframe\">\n",
       "  <thead>\n",
       "    <tr style=\"text-align: right;\">\n",
       "      <th></th>\n",
       "      <th>reviewerID</th>\n",
       "      <th>asin</th>\n",
       "      <th>reviewerName</th>\n",
       "      <th>overall</th>\n",
       "      <th>unixReviewTime</th>\n",
       "      <th>reviewTime</th>\n",
       "      <th>review_text</th>\n",
       "      <th>pos_feedback</th>\n",
       "      <th>neg_feedback</th>\n",
       "    </tr>\n",
       "  </thead>\n",
       "  <tbody>\n",
       "    <tr>\n",
       "      <th>0</th>\n",
       "      <td>A6VPK7X53QNAQ</td>\n",
       "      <td>B0000CC64W</td>\n",
       "      <td>AmazonDiva \"Keep Calm and Carry On.\"</td>\n",
       "      <td>5.0</td>\n",
       "      <td>1245283200</td>\n",
       "      <td>06 18, 2009</td>\n",
       "      <td>If I had to choose only one product to take ca...</td>\n",
       "      <td>5</td>\n",
       "      <td>0</td>\n",
       "    </tr>\n",
       "    <tr>\n",
       "      <th>1</th>\n",
       "      <td>A3CHMHGSJSQ02J</td>\n",
       "      <td>B0000CC64W</td>\n",
       "      <td>Anon. A. Non</td>\n",
       "      <td>5.0</td>\n",
       "      <td>1358467200</td>\n",
       "      <td>01 18, 2013</td>\n",
       "      <td>Makes my skin lovely and smooth As a woman nea...</td>\n",
       "      <td>2</td>\n",
       "      <td>0</td>\n",
       "    </tr>\n",
       "    <tr>\n",
       "      <th>2</th>\n",
       "      <td>A1V1EP514B5H7Y</td>\n",
       "      <td>B0000CC64W</td>\n",
       "      <td>asiana</td>\n",
       "      <td>5.0</td>\n",
       "      <td>1322524800</td>\n",
       "      <td>11 29, 2011</td>\n",
       "      <td>Works well at a reasonable price I've used thi...</td>\n",
       "      <td>0</td>\n",
       "      <td>0</td>\n",
       "    </tr>\n",
       "    <tr>\n",
       "      <th>3</th>\n",
       "      <td>A1X2LENOF84LCQ</td>\n",
       "      <td>B0000CC64W</td>\n",
       "      <td>D \"D\"</td>\n",
       "      <td>4.0</td>\n",
       "      <td>1113350400</td>\n",
       "      <td>04 13, 2005</td>\n",
       "      <td>This does work ladies I have tried so many pro...</td>\n",
       "      <td>62</td>\n",
       "      <td>13</td>\n",
       "    </tr>\n",
       "    <tr>\n",
       "      <th>4</th>\n",
       "      <td>A2PATWWZAXHQYA</td>\n",
       "      <td>B0000CC64W</td>\n",
       "      <td>Farnoosh Brock</td>\n",
       "      <td>1.0</td>\n",
       "      <td>1387584000</td>\n",
       "      <td>12 21, 2013</td>\n",
       "      <td>Did not like the feel/texture of this serum I ...</td>\n",
       "      <td>1</td>\n",
       "      <td>0</td>\n",
       "    </tr>\n",
       "  </tbody>\n",
       "</table>\n",
       "</div>"
      ],
      "text/plain": [
       "       reviewerID        asin                          reviewerName  overall  \\\n",
       "0   A6VPK7X53QNAQ  B0000CC64W  AmazonDiva \"Keep Calm and Carry On.\"      5.0   \n",
       "1  A3CHMHGSJSQ02J  B0000CC64W                          Anon. A. Non      5.0   \n",
       "2  A1V1EP514B5H7Y  B0000CC64W                                asiana      5.0   \n",
       "3  A1X2LENOF84LCQ  B0000CC64W                                 D \"D\"      4.0   \n",
       "4  A2PATWWZAXHQYA  B0000CC64W                        Farnoosh Brock      1.0   \n",
       "\n",
       "   unixReviewTime   reviewTime  \\\n",
       "0      1245283200  06 18, 2009   \n",
       "1      1358467200  01 18, 2013   \n",
       "2      1322524800  11 29, 2011   \n",
       "3      1113350400  04 13, 2005   \n",
       "4      1387584000  12 21, 2013   \n",
       "\n",
       "                                         review_text  pos_feedback  \\\n",
       "0  If I had to choose only one product to take ca...             5   \n",
       "1  Makes my skin lovely and smooth As a woman nea...             2   \n",
       "2  Works well at a reasonable price I've used thi...             0   \n",
       "3  This does work ladies I have tried so many pro...            62   \n",
       "4  Did not like the feel/texture of this serum I ...             1   \n",
       "\n",
       "   neg_feedback  \n",
       "0             0  \n",
       "1             0  \n",
       "2             0  \n",
       "3            13  \n",
       "4             0  "
      ]
     },
     "execution_count": 18,
     "metadata": {},
     "output_type": "execute_result"
    }
   ],
   "source": [
    "# Split 'helpful' column into 'neg_feedback' and 'pos_feedback' and drop it at the end\n",
    "\n",
    "list_positive = []\n",
    "list_negative = []\n",
    "\n",
    "for help in df2['helpful']:\n",
    "    list_positive.append(help[0])\n",
    "    list_negative.append(help[1] - help[0])\n",
    "    \n",
    "# Positive Feedback (Supporting reviewer's idea and find it useful)\n",
    "df2['pos_feedback'] = list_positive\n",
    "\n",
    "# Negative Feedback (Finding reviewer's idea useless and not supporting it)\n",
    "df2['neg_feedback'] = list_negative\n",
    "\n",
    "# Drop redundant 'helpful' column\n",
    "df2 = df2.drop('helpful', axis = 1)\n",
    "df2.head()"
   ]
  },
  {
   "cell_type": "markdown",
   "metadata": {},
   "source": [
    "## Classify the 'overall' (ratings) as good, neutral and bad"
   ]
  },
  {
   "cell_type": "code",
   "execution_count": 19,
   "metadata": {},
   "outputs": [
    {
     "name": "stdout",
     "output_type": "stream",
     "text": [
      "Good ratings : 22425 reviews for beauty products\n",
      "Neutral ratings : 4067 reviews for beauty products\n",
      "Bad ratings : 2084 reviews for beauty products\n"
     ]
    }
   ],
   "source": [
    "# Classify ratings as good\n",
    "good_rate = len(df2[df2['overall'] > 3])\n",
    "neut_rate = len(df2[df2['overall'] == 3])\n",
    "bad_rate = len(df2[df2['overall'] < 3])\n",
    "\n",
    "# Printing rates and their total numbers\n",
    "print ('Good ratings : {} reviews for beauty products'.format(good_rate))\n",
    "print ('Neutral ratings : {} reviews for beauty products'.format(neut_rate))\n",
    "print ('Bad ratings : {} reviews for beauty products'.format(bad_rate))"
   ]
  },
  {
   "cell_type": "code",
   "execution_count": 20,
   "metadata": {},
   "outputs": [
    {
     "data": {
      "text/html": [
       "<div>\n",
       "<style scoped>\n",
       "    .dataframe tbody tr th:only-of-type {\n",
       "        vertical-align: middle;\n",
       "    }\n",
       "\n",
       "    .dataframe tbody tr th {\n",
       "        vertical-align: top;\n",
       "    }\n",
       "\n",
       "    .dataframe thead th {\n",
       "        text-align: right;\n",
       "    }\n",
       "</style>\n",
       "<table border=\"1\" class=\"dataframe\">\n",
       "  <thead>\n",
       "    <tr style=\"text-align: right;\">\n",
       "      <th></th>\n",
       "      <th>reviewerID</th>\n",
       "      <th>asin</th>\n",
       "      <th>reviewerName</th>\n",
       "      <th>overall</th>\n",
       "      <th>unixReviewTime</th>\n",
       "      <th>reviewTime</th>\n",
       "      <th>review_text</th>\n",
       "      <th>pos_feedback</th>\n",
       "      <th>neg_feedback</th>\n",
       "      <th>rating_class</th>\n",
       "    </tr>\n",
       "  </thead>\n",
       "  <tbody>\n",
       "    <tr>\n",
       "      <th>0</th>\n",
       "      <td>A6VPK7X53QNAQ</td>\n",
       "      <td>B0000CC64W</td>\n",
       "      <td>AmazonDiva \"Keep Calm and Carry On.\"</td>\n",
       "      <td>5.0</td>\n",
       "      <td>1245283200</td>\n",
       "      <td>06 18, 2009</td>\n",
       "      <td>If I had to choose only one product to take ca...</td>\n",
       "      <td>5</td>\n",
       "      <td>0</td>\n",
       "      <td>good</td>\n",
       "    </tr>\n",
       "    <tr>\n",
       "      <th>1</th>\n",
       "      <td>A3CHMHGSJSQ02J</td>\n",
       "      <td>B0000CC64W</td>\n",
       "      <td>Anon. A. Non</td>\n",
       "      <td>5.0</td>\n",
       "      <td>1358467200</td>\n",
       "      <td>01 18, 2013</td>\n",
       "      <td>Makes my skin lovely and smooth As a woman nea...</td>\n",
       "      <td>2</td>\n",
       "      <td>0</td>\n",
       "      <td>good</td>\n",
       "    </tr>\n",
       "    <tr>\n",
       "      <th>2</th>\n",
       "      <td>A1V1EP514B5H7Y</td>\n",
       "      <td>B0000CC64W</td>\n",
       "      <td>asiana</td>\n",
       "      <td>5.0</td>\n",
       "      <td>1322524800</td>\n",
       "      <td>11 29, 2011</td>\n",
       "      <td>Works well at a reasonable price I've used thi...</td>\n",
       "      <td>0</td>\n",
       "      <td>0</td>\n",
       "      <td>good</td>\n",
       "    </tr>\n",
       "    <tr>\n",
       "      <th>3</th>\n",
       "      <td>A1X2LENOF84LCQ</td>\n",
       "      <td>B0000CC64W</td>\n",
       "      <td>D \"D\"</td>\n",
       "      <td>4.0</td>\n",
       "      <td>1113350400</td>\n",
       "      <td>04 13, 2005</td>\n",
       "      <td>This does work ladies I have tried so many pro...</td>\n",
       "      <td>62</td>\n",
       "      <td>13</td>\n",
       "      <td>good</td>\n",
       "    </tr>\n",
       "    <tr>\n",
       "      <th>4</th>\n",
       "      <td>A2PATWWZAXHQYA</td>\n",
       "      <td>B0000CC64W</td>\n",
       "      <td>Farnoosh Brock</td>\n",
       "      <td>1.0</td>\n",
       "      <td>1387584000</td>\n",
       "      <td>12 21, 2013</td>\n",
       "      <td>Did not like the feel/texture of this serum I ...</td>\n",
       "      <td>1</td>\n",
       "      <td>0</td>\n",
       "      <td>bad</td>\n",
       "    </tr>\n",
       "  </tbody>\n",
       "</table>\n",
       "</div>"
      ],
      "text/plain": [
       "       reviewerID        asin                          reviewerName  overall  \\\n",
       "0   A6VPK7X53QNAQ  B0000CC64W  AmazonDiva \"Keep Calm and Carry On.\"      5.0   \n",
       "1  A3CHMHGSJSQ02J  B0000CC64W                          Anon. A. Non      5.0   \n",
       "2  A1V1EP514B5H7Y  B0000CC64W                                asiana      5.0   \n",
       "3  A1X2LENOF84LCQ  B0000CC64W                                 D \"D\"      4.0   \n",
       "4  A2PATWWZAXHQYA  B0000CC64W                        Farnoosh Brock      1.0   \n",
       "\n",
       "   unixReviewTime   reviewTime  \\\n",
       "0      1245283200  06 18, 2009   \n",
       "1      1358467200  01 18, 2013   \n",
       "2      1322524800  11 29, 2011   \n",
       "3      1113350400  04 13, 2005   \n",
       "4      1387584000  12 21, 2013   \n",
       "\n",
       "                                         review_text  pos_feedback  \\\n",
       "0  If I had to choose only one product to take ca...             5   \n",
       "1  Makes my skin lovely and smooth As a woman nea...             2   \n",
       "2  Works well at a reasonable price I've used thi...             0   \n",
       "3  This does work ladies I have tried so many pro...            62   \n",
       "4  Did not like the feel/texture of this serum I ...             1   \n",
       "\n",
       "   neg_feedback rating_class  \n",
       "0             0         good  \n",
       "1             0         good  \n",
       "2             0         good  \n",
       "3            13         good  \n",
       "4             0          bad  "
      ]
     },
     "execution_count": 20,
     "metadata": {},
     "output_type": "execute_result"
    }
   ],
   "source": [
    "# Apply the new classification to the ratings column\n",
    "df2['rating_class'] = df2['overall'].apply(lambda x: 'bad' if x < 3 else('good' if x > 3 else 'neutral'))\n",
    "df2.head()"
   ]
  },
  {
   "cell_type": "markdown",
   "metadata": {},
   "source": [
    "We have a new column named as 'rating_class' consists of three classes such as 'good, neutral and bad' after applying the new classification. "
   ]
  },
  {
   "cell_type": "markdown",
   "metadata": {},
   "source": [
    "## Dropping duplicate columns about customer ('reviwerName') and time ('unixReviewTime)"
   ]
  },
  {
   "cell_type": "code",
   "execution_count": 21,
   "metadata": {},
   "outputs": [
    {
     "data": {
      "text/html": [
       "<div>\n",
       "<style scoped>\n",
       "    .dataframe tbody tr th:only-of-type {\n",
       "        vertical-align: middle;\n",
       "    }\n",
       "\n",
       "    .dataframe tbody tr th {\n",
       "        vertical-align: top;\n",
       "    }\n",
       "\n",
       "    .dataframe thead th {\n",
       "        text-align: right;\n",
       "    }\n",
       "</style>\n",
       "<table border=\"1\" class=\"dataframe\">\n",
       "  <thead>\n",
       "    <tr style=\"text-align: right;\">\n",
       "      <th></th>\n",
       "      <th>reviewerID</th>\n",
       "      <th>asin</th>\n",
       "      <th>overall</th>\n",
       "      <th>reviewTime</th>\n",
       "      <th>review_text</th>\n",
       "      <th>pos_feedback</th>\n",
       "      <th>neg_feedback</th>\n",
       "      <th>rating_class</th>\n",
       "    </tr>\n",
       "  </thead>\n",
       "  <tbody>\n",
       "    <tr>\n",
       "      <th>0</th>\n",
       "      <td>A6VPK7X53QNAQ</td>\n",
       "      <td>B0000CC64W</td>\n",
       "      <td>5.0</td>\n",
       "      <td>06 18, 2009</td>\n",
       "      <td>If I had to choose only one product to take ca...</td>\n",
       "      <td>5</td>\n",
       "      <td>0</td>\n",
       "      <td>good</td>\n",
       "    </tr>\n",
       "    <tr>\n",
       "      <th>1</th>\n",
       "      <td>A3CHMHGSJSQ02J</td>\n",
       "      <td>B0000CC64W</td>\n",
       "      <td>5.0</td>\n",
       "      <td>01 18, 2013</td>\n",
       "      <td>Makes my skin lovely and smooth As a woman nea...</td>\n",
       "      <td>2</td>\n",
       "      <td>0</td>\n",
       "      <td>good</td>\n",
       "    </tr>\n",
       "    <tr>\n",
       "      <th>2</th>\n",
       "      <td>A1V1EP514B5H7Y</td>\n",
       "      <td>B0000CC64W</td>\n",
       "      <td>5.0</td>\n",
       "      <td>11 29, 2011</td>\n",
       "      <td>Works well at a reasonable price I've used thi...</td>\n",
       "      <td>0</td>\n",
       "      <td>0</td>\n",
       "      <td>good</td>\n",
       "    </tr>\n",
       "    <tr>\n",
       "      <th>3</th>\n",
       "      <td>A1X2LENOF84LCQ</td>\n",
       "      <td>B0000CC64W</td>\n",
       "      <td>4.0</td>\n",
       "      <td>04 13, 2005</td>\n",
       "      <td>This does work ladies I have tried so many pro...</td>\n",
       "      <td>62</td>\n",
       "      <td>13</td>\n",
       "      <td>good</td>\n",
       "    </tr>\n",
       "    <tr>\n",
       "      <th>4</th>\n",
       "      <td>A2PATWWZAXHQYA</td>\n",
       "      <td>B0000CC64W</td>\n",
       "      <td>1.0</td>\n",
       "      <td>12 21, 2013</td>\n",
       "      <td>Did not like the feel/texture of this serum I ...</td>\n",
       "      <td>1</td>\n",
       "      <td>0</td>\n",
       "      <td>bad</td>\n",
       "    </tr>\n",
       "  </tbody>\n",
       "</table>\n",
       "</div>"
      ],
      "text/plain": [
       "       reviewerID        asin  overall   reviewTime  \\\n",
       "0   A6VPK7X53QNAQ  B0000CC64W      5.0  06 18, 2009   \n",
       "1  A3CHMHGSJSQ02J  B0000CC64W      5.0  01 18, 2013   \n",
       "2  A1V1EP514B5H7Y  B0000CC64W      5.0  11 29, 2011   \n",
       "3  A1X2LENOF84LCQ  B0000CC64W      4.0  04 13, 2005   \n",
       "4  A2PATWWZAXHQYA  B0000CC64W      1.0  12 21, 2013   \n",
       "\n",
       "                                         review_text  pos_feedback  \\\n",
       "0  If I had to choose only one product to take ca...             5   \n",
       "1  Makes my skin lovely and smooth As a woman nea...             2   \n",
       "2  Works well at a reasonable price I've used thi...             0   \n",
       "3  This does work ladies I have tried so many pro...            62   \n",
       "4  Did not like the feel/texture of this serum I ...             1   \n",
       "\n",
       "   neg_feedback rating_class  \n",
       "0             0         good  \n",
       "1             0         good  \n",
       "2             0         good  \n",
       "3            13         good  \n",
       "4             0          bad  "
      ]
     },
     "execution_count": 21,
     "metadata": {},
     "output_type": "execute_result"
    }
   ],
   "source": [
    "# Drop 'reviewName' and 'unixReviewTime'columns\n",
    "df2 = df2.drop(['reviewerName', 'unixReviewTime'], axis = 1)\n",
    "df2.head()"
   ]
  },
  {
   "cell_type": "markdown",
   "metadata": {},
   "source": [
    "## Arranging Time column"
   ]
  },
  {
   "cell_type": "code",
   "execution_count": 22,
   "metadata": {
    "scrolled": true
   },
   "outputs": [
    {
     "data": {
      "text/html": [
       "<div>\n",
       "<style scoped>\n",
       "    .dataframe tbody tr th:only-of-type {\n",
       "        vertical-align: middle;\n",
       "    }\n",
       "\n",
       "    .dataframe tbody tr th {\n",
       "        vertical-align: top;\n",
       "    }\n",
       "\n",
       "    .dataframe thead th {\n",
       "        text-align: right;\n",
       "    }\n",
       "</style>\n",
       "<table border=\"1\" class=\"dataframe\">\n",
       "  <thead>\n",
       "    <tr style=\"text-align: right;\">\n",
       "      <th></th>\n",
       "      <th>reviewerID</th>\n",
       "      <th>asin</th>\n",
       "      <th>overall</th>\n",
       "      <th>review_text</th>\n",
       "      <th>pos_feedback</th>\n",
       "      <th>neg_feedback</th>\n",
       "      <th>rating_class</th>\n",
       "      <th>time</th>\n",
       "    </tr>\n",
       "  </thead>\n",
       "  <tbody>\n",
       "    <tr>\n",
       "      <th>0</th>\n",
       "      <td>A6VPK7X53QNAQ</td>\n",
       "      <td>B0000CC64W</td>\n",
       "      <td>5.0</td>\n",
       "      <td>If I had to choose only one product to take ca...</td>\n",
       "      <td>5</td>\n",
       "      <td>0</td>\n",
       "      <td>good</td>\n",
       "      <td>2009-06-18</td>\n",
       "    </tr>\n",
       "    <tr>\n",
       "      <th>1</th>\n",
       "      <td>A3CHMHGSJSQ02J</td>\n",
       "      <td>B0000CC64W</td>\n",
       "      <td>5.0</td>\n",
       "      <td>Makes my skin lovely and smooth As a woman nea...</td>\n",
       "      <td>2</td>\n",
       "      <td>0</td>\n",
       "      <td>good</td>\n",
       "      <td>2013-01-18</td>\n",
       "    </tr>\n",
       "    <tr>\n",
       "      <th>2</th>\n",
       "      <td>A1V1EP514B5H7Y</td>\n",
       "      <td>B0000CC64W</td>\n",
       "      <td>5.0</td>\n",
       "      <td>Works well at a reasonable price I've used thi...</td>\n",
       "      <td>0</td>\n",
       "      <td>0</td>\n",
       "      <td>good</td>\n",
       "      <td>2011-11-29</td>\n",
       "    </tr>\n",
       "    <tr>\n",
       "      <th>3</th>\n",
       "      <td>A1X2LENOF84LCQ</td>\n",
       "      <td>B0000CC64W</td>\n",
       "      <td>4.0</td>\n",
       "      <td>This does work ladies I have tried so many pro...</td>\n",
       "      <td>62</td>\n",
       "      <td>13</td>\n",
       "      <td>good</td>\n",
       "      <td>2005-04-13</td>\n",
       "    </tr>\n",
       "    <tr>\n",
       "      <th>4</th>\n",
       "      <td>A2PATWWZAXHQYA</td>\n",
       "      <td>B0000CC64W</td>\n",
       "      <td>1.0</td>\n",
       "      <td>Did not like the feel/texture of this serum I ...</td>\n",
       "      <td>1</td>\n",
       "      <td>0</td>\n",
       "      <td>bad</td>\n",
       "      <td>2013-12-21</td>\n",
       "    </tr>\n",
       "  </tbody>\n",
       "</table>\n",
       "</div>"
      ],
      "text/plain": [
       "       reviewerID        asin  overall  \\\n",
       "0   A6VPK7X53QNAQ  B0000CC64W      5.0   \n",
       "1  A3CHMHGSJSQ02J  B0000CC64W      5.0   \n",
       "2  A1V1EP514B5H7Y  B0000CC64W      5.0   \n",
       "3  A1X2LENOF84LCQ  B0000CC64W      4.0   \n",
       "4  A2PATWWZAXHQYA  B0000CC64W      1.0   \n",
       "\n",
       "                                         review_text  pos_feedback  \\\n",
       "0  If I had to choose only one product to take ca...             5   \n",
       "1  Makes my skin lovely and smooth As a woman nea...             2   \n",
       "2  Works well at a reasonable price I've used thi...             0   \n",
       "3  This does work ladies I have tried so many pro...            62   \n",
       "4  Did not like the feel/texture of this serum I ...             1   \n",
       "\n",
       "   neg_feedback rating_class       time  \n",
       "0             0         good 2009-06-18  \n",
       "1             0         good 2013-01-18  \n",
       "2             0         good 2011-11-29  \n",
       "3            13         good 2005-04-13  \n",
       "4             0          bad 2013-12-21  "
      ]
     },
     "execution_count": 22,
     "metadata": {},
     "output_type": "execute_result"
    }
   ],
   "source": [
    "# Convert time object to datetime and create a new column named 'time'\n",
    "df2['time'] = df2.reviewTime.str.replace(',', \"\")\n",
    "df2['time'] = pd.to_datetime(df2['time'], format = '%m %d %Y')\n",
    "\n",
    "# Drop redundant 'reviewTime' column\n",
    "df2 = df2.drop('reviewTime', axis = 1)\n",
    "df2.head()"
   ]
  },
  {
   "cell_type": "code",
   "execution_count": 23,
   "metadata": {},
   "outputs": [
    {
     "data": {
      "text/plain": [
       "pandas._libs.tslibs.timestamps.Timestamp"
      ]
     },
     "execution_count": 23,
     "metadata": {},
     "output_type": "execute_result"
    }
   ],
   "source": [
    "# Check the 'time' data type with a sample observation\n",
    "type(df2.time[110])"
   ]
  },
  {
   "cell_type": "markdown",
   "metadata": {},
   "source": [
    "## Rename column names"
   ]
  },
  {
   "cell_type": "code",
   "execution_count": 24,
   "metadata": {},
   "outputs": [
    {
     "data": {
      "text/html": [
       "<div>\n",
       "<style scoped>\n",
       "    .dataframe tbody tr th:only-of-type {\n",
       "        vertical-align: middle;\n",
       "    }\n",
       "\n",
       "    .dataframe tbody tr th {\n",
       "        vertical-align: top;\n",
       "    }\n",
       "\n",
       "    .dataframe thead th {\n",
       "        text-align: right;\n",
       "    }\n",
       "</style>\n",
       "<table border=\"1\" class=\"dataframe\">\n",
       "  <thead>\n",
       "    <tr style=\"text-align: right;\">\n",
       "      <th></th>\n",
       "      <th>customer</th>\n",
       "      <th>product</th>\n",
       "      <th>rating</th>\n",
       "      <th>review_text</th>\n",
       "      <th>pos_feedback</th>\n",
       "      <th>neg_feedback</th>\n",
       "      <th>rating_class</th>\n",
       "      <th>time</th>\n",
       "    </tr>\n",
       "  </thead>\n",
       "  <tbody>\n",
       "    <tr>\n",
       "      <th>9270</th>\n",
       "      <td>A1W4F91DH3XPB2</td>\n",
       "      <td>B0072XR560</td>\n",
       "      <td>2.0</td>\n",
       "      <td>Too greasy, too heavy on the hair Of course, I...</td>\n",
       "      <td>0</td>\n",
       "      <td>0</td>\n",
       "      <td>bad</td>\n",
       "      <td>2013-02-12</td>\n",
       "    </tr>\n",
       "  </tbody>\n",
       "</table>\n",
       "</div>"
      ],
      "text/plain": [
       "            customer     product  rating  \\\n",
       "9270  A1W4F91DH3XPB2  B0072XR560     2.0   \n",
       "\n",
       "                                            review_text  pos_feedback  \\\n",
       "9270  Too greasy, too heavy on the hair Of course, I...             0   \n",
       "\n",
       "      neg_feedback rating_class       time  \n",
       "9270             0          bad 2013-02-12  "
      ]
     },
     "execution_count": 24,
     "metadata": {},
     "output_type": "execute_result"
    }
   ],
   "source": [
    "# Rename the columns\n",
    "df2.columns = ['customer', 'product', 'rating', 'review_text', 'pos_feedback', 'neg_feedback', 'rating_class', 'time']\n",
    "\n",
    "# Sample observation\n",
    "df2.sample()"
   ]
  },
  {
   "cell_type": "markdown",
   "metadata": {},
   "source": [
    "## Descriptive Statistics "
   ]
  },
  {
   "cell_type": "code",
   "execution_count": 25,
   "metadata": {},
   "outputs": [
    {
     "data": {
      "text/html": [
       "<div>\n",
       "<style scoped>\n",
       "    .dataframe tbody tr th:only-of-type {\n",
       "        vertical-align: middle;\n",
       "    }\n",
       "\n",
       "    .dataframe tbody tr th {\n",
       "        vertical-align: top;\n",
       "    }\n",
       "\n",
       "    .dataframe thead th {\n",
       "        text-align: right;\n",
       "    }\n",
       "</style>\n",
       "<table border=\"1\" class=\"dataframe\">\n",
       "  <thead>\n",
       "    <tr style=\"text-align: right;\">\n",
       "      <th></th>\n",
       "      <th>rating</th>\n",
       "      <th>pos_feedback</th>\n",
       "      <th>neg_feedback</th>\n",
       "    </tr>\n",
       "  </thead>\n",
       "  <tbody>\n",
       "    <tr>\n",
       "      <th>count</th>\n",
       "      <td>28576.000000</td>\n",
       "      <td>28576.000000</td>\n",
       "      <td>28576.000000</td>\n",
       "    </tr>\n",
       "    <tr>\n",
       "      <th>mean</th>\n",
       "      <td>4.170493</td>\n",
       "      <td>0.948488</td>\n",
       "      <td>0.324888</td>\n",
       "    </tr>\n",
       "    <tr>\n",
       "      <th>std</th>\n",
       "      <td>0.992277</td>\n",
       "      <td>6.829651</td>\n",
       "      <td>1.105870</td>\n",
       "    </tr>\n",
       "    <tr>\n",
       "      <th>min</th>\n",
       "      <td>1.000000</td>\n",
       "      <td>0.000000</td>\n",
       "      <td>0.000000</td>\n",
       "    </tr>\n",
       "    <tr>\n",
       "      <th>25%</th>\n",
       "      <td>4.000000</td>\n",
       "      <td>0.000000</td>\n",
       "      <td>0.000000</td>\n",
       "    </tr>\n",
       "    <tr>\n",
       "      <th>50%</th>\n",
       "      <td>4.000000</td>\n",
       "      <td>0.000000</td>\n",
       "      <td>0.000000</td>\n",
       "    </tr>\n",
       "    <tr>\n",
       "      <th>75%</th>\n",
       "      <td>5.000000</td>\n",
       "      <td>1.000000</td>\n",
       "      <td>0.000000</td>\n",
       "    </tr>\n",
       "    <tr>\n",
       "      <th>max</th>\n",
       "      <td>5.000000</td>\n",
       "      <td>549.000000</td>\n",
       "      <td>52.000000</td>\n",
       "    </tr>\n",
       "  </tbody>\n",
       "</table>\n",
       "</div>"
      ],
      "text/plain": [
       "             rating  pos_feedback  neg_feedback\n",
       "count  28576.000000  28576.000000  28576.000000\n",
       "mean       4.170493      0.948488      0.324888\n",
       "std        0.992277      6.829651      1.105870\n",
       "min        1.000000      0.000000      0.000000\n",
       "25%        4.000000      0.000000      0.000000\n",
       "50%        4.000000      0.000000      0.000000\n",
       "75%        5.000000      1.000000      0.000000\n",
       "max        5.000000    549.000000     52.000000"
      ]
     },
     "execution_count": 25,
     "metadata": {},
     "output_type": "execute_result"
    }
   ],
   "source": [
    "# Read statistic summary of numeric variables\n",
    "df2.describe()"
   ]
  },
  {
   "cell_type": "code",
   "execution_count": 26,
   "metadata": {},
   "outputs": [
    {
     "data": {
      "text/plain": [
       "5.0    13683\n",
       "4.0     8742\n",
       "3.0     4067\n",
       "2.0     1508\n",
       "1.0      576\n",
       "Name: rating, dtype: int64"
      ]
     },
     "execution_count": 26,
     "metadata": {},
     "output_type": "execute_result"
    }
   ],
   "source": [
    "# Customer totals for each rating \n",
    "df2['rating'].value_counts()"
   ]
  },
  {
   "cell_type": "code",
   "execution_count": 27,
   "metadata": {},
   "outputs": [
    {
     "data": {
      "text/plain": [
       "good       22425\n",
       "neutral     4067\n",
       "bad         2084\n",
       "Name: rating_class, dtype: int64"
      ]
     },
     "execution_count": 27,
     "metadata": {},
     "output_type": "execute_result"
    }
   ],
   "source": [
    "# Customer totals for each rating class\n",
    "df2['rating_class'].value_counts()"
   ]
  },
  {
   "cell_type": "code",
   "execution_count": 28,
   "metadata": {},
   "outputs": [
    {
     "name": "stdout",
     "output_type": "stream",
     "text": [
      "Number of positive feedbacks: 8397\n",
      "\n",
      "Number of negative feedbacks: 6078\n",
      "\n",
      "Number of no helpful feedbacks: 14101\n"
     ]
    }
   ],
   "source": [
    "# Print the number of positive feedback\n",
    "pos = len(df2[df2['pos_feedback'] > 0])\n",
    "print('Number of positive feedbacks: {}'.format(pos))\n",
    "\n",
    "# Print the number of negative feedback\n",
    "neg = len(df2[df2['neg_feedback'] > 0])      \n",
    "print('\\nNumber of negative feedbacks: {}'.format(neg))\n",
    "\n",
    "# Print the number of no 'helpful' feedback \n",
    "total = len(df2)\n",
    "print('\\nNumber of no helpful feedbacks: {}'.format(total - (pos + neg)))"
   ]
  },
  {
   "cell_type": "code",
   "execution_count": 29,
   "metadata": {},
   "outputs": [
    {
     "name": "stdout",
     "output_type": "stream",
     "text": [
      "\n",
      "Number of unique customers : 1340\n",
      "\n",
      "Number of unique products : 733\n",
      "\n",
      "Review per customer: 21.32537313432836\n",
      "\n",
      "Review per product: 38.9849931787176\n"
     ]
    }
   ],
   "source": [
    "# Statistics of non-numeric variables\n",
    "\n",
    "# Number of unique customers\n",
    "print('\\nNumber of unique customers : {}'.format(len(df2['customer'].unique())))\n",
    "      \n",
    "# Number of unique products\n",
    "print('\\nNumber of unique products : {}'.format(len(df2['product'].unique())))\n",
    "      \n",
    "# Review number per unique customer\n",
    "print('\\nReview per customer: {}'.format((len(df2)/len(df2['customer'].unique()))))      \n",
    "\n",
    "# Review number per unique product \n",
    "print('\\nReview per product: {}'.format((len(df2)/len(df2['product'].unique()))))     "
   ]
  },
  {
   "cell_type": "markdown",
   "metadata": {},
   "source": [
    "**Descriptive Statistic Summary:**\n",
    "\n",
    "**- Rating Status:**\n",
    "\n",
    "28576 customer gives ratings and mean of the ratings is 4.17, which means that customers prefer to give high ratings for products. Standard deviation and percentiles also show that 1 and 2 ratings for products are rare. To be able to predict the ratings reasonably, we classified them as 'good', 'neutral', and 'bad' above. \n",
    "\n",
    "According to the statistics on rating stars:\n",
    "\n",
    "576 customers give 1 star \n",
    "\n",
    "1508 customers give 2 stars\n",
    "\n",
    "4067 customers give 3 stars\n",
    "\n",
    "8742  customers give 4 stars\n",
    "\n",
    "13683 customers give 5 stars\n",
    "\n",
    "\n",
    "On the other hand, if we look for the rating class, the picture is look like below.\n",
    "\n",
    "2084 customers give bad ratings\n",
    "\n",
    "4067 customers give neutral ratings\n",
    "\n",
    "22425 customers give good ratings\n",
    "\n",
    "**- Feedback Status**\n",
    "\n",
    "8397 customers find the given reviews logical and totally agree with them. They give positive feedbacks. The mean 0.9 and standard deviation is 6.8 whereas the highest positive feedback number for reviews is 549. That shows we may have some outliers in the dataset. \n",
    "\n",
    "6078 customers find the given reviews useless and don't aggree with the them. They give negative feedbacks. The mean 0.3 and standard deviation is 1.1 whereas the highest negative feedback number for reviews is 52.\n",
    "\n",
    "On the other hand 14101 customers don't give either positive or negative feedbacks for reviews. \n",
    "\n",
    "**- Non-numeric variables statistics:**\n",
    "\n",
    "We have 1340 unique customers and 733 products in this dataset. Each customers averagely give 21 reviews for products and on the other hand, there is averagely 40 reviews for each product in the website. \n",
    "\n",
    "On exploratory data analysis, we will check if there is a case for outliers by visualizing data. "
   ]
  },
  {
   "cell_type": "markdown",
   "metadata": {},
   "source": [
    "## Preprocessing the new_text"
   ]
  },
  {
   "cell_type": "code",
   "execution_count": 55,
   "metadata": {},
   "outputs": [],
   "source": [
    "import spacy\n",
    "import nltk\n",
    "from nltk.corpus import stopwords\n",
    "from nltk.stem import PorterStemmer, WordNetLemmatizer\n",
    "from nltk.tokenize import word_tokenize, sent_tokenize, regexp_tokenize\n",
    "from nltk.tokenize import RegexpTokenizer\n",
    "from nltk.tokenize.toktok import ToktokTokenizer\n",
    "import re\n",
    "from bs4 import BeautifulSoup\n",
    "from contractions import CONTRACTION_MAP\n",
    "import unicodedata\n",
    "tokenizer = ToktokTokenizer()\n",
    "nlp = spacy.load('en', parse=True, tag=True, entity=True)"
   ]
  },
  {
   "cell_type": "markdown",
   "metadata": {},
   "source": [
    "**Removing HTML tags**"
   ]
  },
  {
   "cell_type": "markdown",
   "metadata": {},
   "source": [
    "We will write a function to remove the HTML tags which typically does not add much value towards understanding and analyzing text. "
   ]
  },
  {
   "cell_type": "code",
   "execution_count": 31,
   "metadata": {},
   "outputs": [],
   "source": [
    "def strip_html_tags(text):\n",
    "    \n",
    "    \"Removes html tags in the text\"\n",
    "    \n",
    "    soup = BeautifulSoup(text, \"html.parser\")\n",
    "    stripped_text = soup.get_text()\n",
    "    return stripped_text"
   ]
  },
  {
   "cell_type": "markdown",
   "metadata": {},
   "source": [
    "**Removing accented characters**"
   ]
  },
  {
   "cell_type": "markdown",
   "metadata": {},
   "source": [
    "We will write a function to convert and standardize accented characters/letters into ASCII characters."
   ]
  },
  {
   "cell_type": "code",
   "execution_count": 32,
   "metadata": {},
   "outputs": [],
   "source": [
    "def remove_accented_chars(text):\n",
    "    \n",
    "    \"Removes and standardize accented characters/letters\"\n",
    "    \n",
    "    text = unicodedata.normalize('NFKD', text).encode('ascii', 'ignore').decode('utf-8', 'ignore')\n",
    "    return text"
   ]
  },
  {
   "cell_type": "markdown",
   "metadata": {},
   "source": [
    "**Expanding Contractions**"
   ]
  },
  {
   "cell_type": "markdown",
   "metadata": {},
   "source": [
    "We will write a function to convert each contraction to its expanded, orginal form in order to help with text standardization. "
   ]
  },
  {
   "cell_type": "code",
   "execution_count": 33,
   "metadata": {},
   "outputs": [],
   "source": [
    "def expand_contractions(text, contraction_mapping=CONTRACTION_MAP):\n",
    "    \n",
    "    \"Convert contractions into their original forms\"\n",
    "    \n",
    "    contractions_pattern = re.compile('({})'.format('|'.join(contraction_mapping.keys())), \n",
    "                                      flags=re.IGNORECASE|re.DOTALL)\n",
    "    def expand_match(contraction):\n",
    "        match = contraction.group(0)\n",
    "        first_char = match[0]\n",
    "        expanded_contraction = contraction_mapping.get(match)\\\n",
    "                                if contraction_mapping.get(match)\\\n",
    "                                else contraction_mapping.get(match.lower())                       \n",
    "        expanded_contraction = first_char+expanded_contraction[1:]\n",
    "        return expanded_contraction\n",
    "        \n",
    "    expanded_text = contractions_pattern.sub(expand_match, text)\n",
    "    expanded_text = re.sub(\"'\", \"\", expanded_text)\n",
    "    return expanded_text"
   ]
  },
  {
   "cell_type": "markdown",
   "metadata": {},
   "source": [
    "**Removing Special Characters**"
   ]
  },
  {
   "cell_type": "markdown",
   "metadata": {},
   "source": [
    "We will use simple regular expressions(regexes) to remove special characters and symbols which are usually non-alphanumeric characters or even occasional numeric characters."
   ]
  },
  {
   "cell_type": "code",
   "execution_count": 34,
   "metadata": {},
   "outputs": [],
   "source": [
    "def remove_special_characters(text, remove_digits=False):\n",
    "    \n",
    "    \"Remove special characters/symbols\"\n",
    "    \n",
    "    pattern = r'[^a-zA-z0-9\\s]' if not remove_digits else r'[^a-zA-z\\s]'\n",
    "    text = re.sub(pattern, '', text)\n",
    "    return text"
   ]
  },
  {
   "cell_type": "markdown",
   "metadata": {},
   "source": [
    "**Lemmatization**"
   ]
  },
  {
   "cell_type": "markdown",
   "metadata": {},
   "source": [
    "We will remove word affixes to get to the base form of a word, known as root word. "
   ]
  },
  {
   "cell_type": "code",
   "execution_count": 35,
   "metadata": {},
   "outputs": [
    {
     "data": {
      "text/plain": [
       "'My system keep crash ! the car crash yesterday , ours crash daily'"
      ]
     },
     "execution_count": 35,
     "metadata": {},
     "output_type": "execute_result"
    }
   ],
   "source": [
    "def lemmatize_text(text):\n",
    "    text = nlp(text)\n",
    "    text = ' '.join([word.lemma_ if word.lemma_ != '-PRON-' else word.text for word in text])\n",
    "    return text\n",
    "\n",
    "lemmatize_text(\"My system keeps crashing! the car crashed yesterday, ours crashes daily\")"
   ]
  },
  {
   "cell_type": "markdown",
   "metadata": {},
   "source": [
    "**Removing stopwords**"
   ]
  },
  {
   "cell_type": "markdown",
   "metadata": {},
   "source": [
    "We will write a function to remove stopwords which have little or no significance in the text. "
   ]
  },
  {
   "cell_type": "code",
   "execution_count": 36,
   "metadata": {},
   "outputs": [],
   "source": [
    "# Instantiate Tokenizer\n",
    "tokenizer = ToktokTokenizer()\n",
    "\n",
    "# Create stopword list\n",
    "stopword_list = nltk.corpus.stopwords.words('english')\n",
    "\n",
    "# 'no' and 'not' may give us information so those are removed from stop list\n",
    "stopword_list.remove('no')\n",
    "stopword_list.remove('not')"
   ]
  },
  {
   "cell_type": "code",
   "execution_count": 37,
   "metadata": {},
   "outputs": [],
   "source": [
    "def remove_stopwords(text, is_lower_case=False):\n",
    "    \n",
    "    \"Remove stopwords in the text except 'no' and 'not'\"\n",
    "    \n",
    "    tokens = tokenizer.tokenize(text)\n",
    "    tokens = [token.strip() for token in tokens]\n",
    "    if is_lower_case:\n",
    "        filtered_tokens = [token for token in tokens if token not in stopword_list]\n",
    "    else:\n",
    "        filtered_tokens = [token for token in tokens if token.lower() not in stopword_list]\n",
    "    filtered_text = ' '.join(filtered_tokens)    \n",
    "    return filtered_text"
   ]
  },
  {
   "cell_type": "markdown",
   "metadata": {},
   "source": [
    "**Building a Text Normalizer**"
   ]
  },
  {
   "cell_type": "markdown",
   "metadata": {},
   "source": [
    "Based on the functions which we have written above and also with additional text correction techniques, we will build a text normalizer in order to help us to preproces the new_text document. "
   ]
  },
  {
   "cell_type": "code",
   "execution_count": 40,
   "metadata": {},
   "outputs": [],
   "source": [
    "def normalize_corpus(doc, html_stripping=True, contraction_expansion=True,\n",
    "                     accented_char_removal=True, text_lower_case=True, \n",
    "                     text_lemmatization=True, special_char_removal=True, \n",
    "                     stopword_removal=True, remove_digits=True):\n",
    "     \n",
    "    # strip HTML\n",
    "    if html_stripping:\n",
    "        doc = strip_html_tags(doc)\n",
    "            \n",
    "    # remove accented characters\n",
    "    if accented_char_removal:\n",
    "        doc = remove_accented_chars(doc)\n",
    "            \n",
    "    # expand contractions    \n",
    "    if contraction_expansion:\n",
    "        doc = expand_contractions(doc)\n",
    "            \n",
    "    # lowercase the text    \n",
    "    if text_lower_case:\n",
    "        doc = doc.lower()\n",
    "            \n",
    "    # remove extra newlines\n",
    "    doc = re.sub(r'[\\r|\\n|\\r\\n]+', ' ',doc)\n",
    "        \n",
    "    # lemmatize text\n",
    "    if text_lemmatization:\n",
    "        doc = lemmatize_text(doc)\n",
    "            \n",
    "    # remove special characters and\\or digits    \n",
    "    if special_char_removal:\n",
    "        # insert spaces between special characters to isolate them    \n",
    "        special_char_pattern = re.compile(r'([{.(-)!}])')\n",
    "        doc = special_char_pattern.sub(\" \\\\1 \", doc)\n",
    "        doc = remove_special_characters(doc, remove_digits=remove_digits)  \n",
    "            \n",
    "    # remove extra whitespace\n",
    "    doc = re.sub(' +', ' ', doc)\n",
    "        \n",
    "    # remove ' (apostrophe) sign\n",
    "    doc = re.sub(r\"'\", r'', doc)\n",
    "        \n",
    "    # remove stopwords\n",
    "    if stopword_removal:\n",
    "        doc = remove_stopwords(doc, is_lower_case=text_lower_case)\n",
    "        \n",
    "    return doc"
   ]
  },
  {
   "cell_type": "markdown",
   "metadata": {},
   "source": [
    "**Applying text normalizer to \"review_text\"**"
   ]
  },
  {
   "cell_type": "code",
   "execution_count": 47,
   "metadata": {},
   "outputs": [],
   "source": [
    "# Create a new column for cleaned text \n",
    "df2['clean_text'] = df2['review_text'].map(lambda doc: normalize_corpus(doc))"
   ]
  },
  {
   "cell_type": "markdown",
   "metadata": {},
   "source": [
    "**Applying tokenizer to create tokens for the clean text**"
   ]
  },
  {
   "cell_type": "code",
   "execution_count": 57,
   "metadata": {},
   "outputs": [
    {
     "data": {
      "text/html": [
       "<div>\n",
       "<style scoped>\n",
       "    .dataframe tbody tr th:only-of-type {\n",
       "        vertical-align: middle;\n",
       "    }\n",
       "\n",
       "    .dataframe tbody tr th {\n",
       "        vertical-align: top;\n",
       "    }\n",
       "\n",
       "    .dataframe thead th {\n",
       "        text-align: right;\n",
       "    }\n",
       "</style>\n",
       "<table border=\"1\" class=\"dataframe\">\n",
       "  <thead>\n",
       "    <tr style=\"text-align: right;\">\n",
       "      <th></th>\n",
       "      <th>customer</th>\n",
       "      <th>product</th>\n",
       "      <th>rating</th>\n",
       "      <th>review_text</th>\n",
       "      <th>pos_feedback</th>\n",
       "      <th>neg_feedback</th>\n",
       "      <th>rating_class</th>\n",
       "      <th>time</th>\n",
       "      <th>clean_text</th>\n",
       "      <th>tokens</th>\n",
       "    </tr>\n",
       "  </thead>\n",
       "  <tbody>\n",
       "    <tr>\n",
       "      <th>0</th>\n",
       "      <td>A6VPK7X53QNAQ</td>\n",
       "      <td>B0000CC64W</td>\n",
       "      <td>5.0</td>\n",
       "      <td>If I had to choose only one product to take ca...</td>\n",
       "      <td>5</td>\n",
       "      <td>0</td>\n",
       "      <td>good</td>\n",
       "      <td>2009-06-18</td>\n",
       "      <td>choose one product take care face rest life wo...</td>\n",
       "      <td>[choose, one, product, take, care, face, rest,...</td>\n",
       "    </tr>\n",
       "    <tr>\n",
       "      <th>1</th>\n",
       "      <td>A3CHMHGSJSQ02J</td>\n",
       "      <td>B0000CC64W</td>\n",
       "      <td>5.0</td>\n",
       "      <td>Makes my skin lovely and smooth As a woman nea...</td>\n",
       "      <td>2</td>\n",
       "      <td>0</td>\n",
       "      <td>good</td>\n",
       "      <td>2013-01-18</td>\n",
       "      <td>make skin lovely smooth woman near need help g...</td>\n",
       "      <td>[make, skin, lovely, smooth, woman, near, need...</td>\n",
       "    </tr>\n",
       "    <tr>\n",
       "      <th>2</th>\n",
       "      <td>A1V1EP514B5H7Y</td>\n",
       "      <td>B0000CC64W</td>\n",
       "      <td>5.0</td>\n",
       "      <td>Works well at a reasonable price I've used thi...</td>\n",
       "      <td>0</td>\n",
       "      <td>0</td>\n",
       "      <td>good</td>\n",
       "      <td>2011-11-29</td>\n",
       "      <td>work well reasonable price use regenerating se...</td>\n",
       "      <td>[work, well, reasonable, price, use, regenerat...</td>\n",
       "    </tr>\n",
       "    <tr>\n",
       "      <th>3</th>\n",
       "      <td>A1X2LENOF84LCQ</td>\n",
       "      <td>B0000CC64W</td>\n",
       "      <td>4.0</td>\n",
       "      <td>This does work ladies I have tried so many pro...</td>\n",
       "      <td>62</td>\n",
       "      <td>13</td>\n",
       "      <td>good</td>\n",
       "      <td>2005-04-13</td>\n",
       "      <td>work lady try many product totally disappointe...</td>\n",
       "      <td>[work, lady, try, many, product, totally, disa...</td>\n",
       "    </tr>\n",
       "    <tr>\n",
       "      <th>4</th>\n",
       "      <td>A2PATWWZAXHQYA</td>\n",
       "      <td>B0000CC64W</td>\n",
       "      <td>1.0</td>\n",
       "      <td>Did not like the feel/texture of this serum I ...</td>\n",
       "      <td>1</td>\n",
       "      <td>0</td>\n",
       "      <td>bad</td>\n",
       "      <td>2013-12-21</td>\n",
       "      <td>not like feel texture serum love oil olay prim...</td>\n",
       "      <td>[not, like, feel, texture, serum, love, oil, o...</td>\n",
       "    </tr>\n",
       "  </tbody>\n",
       "</table>\n",
       "</div>"
      ],
      "text/plain": [
       "         customer     product  rating  \\\n",
       "0   A6VPK7X53QNAQ  B0000CC64W     5.0   \n",
       "1  A3CHMHGSJSQ02J  B0000CC64W     5.0   \n",
       "2  A1V1EP514B5H7Y  B0000CC64W     5.0   \n",
       "3  A1X2LENOF84LCQ  B0000CC64W     4.0   \n",
       "4  A2PATWWZAXHQYA  B0000CC64W     1.0   \n",
       "\n",
       "                                         review_text  pos_feedback  \\\n",
       "0  If I had to choose only one product to take ca...             5   \n",
       "1  Makes my skin lovely and smooth As a woman nea...             2   \n",
       "2  Works well at a reasonable price I've used thi...             0   \n",
       "3  This does work ladies I have tried so many pro...            62   \n",
       "4  Did not like the feel/texture of this serum I ...             1   \n",
       "\n",
       "   neg_feedback rating_class       time  \\\n",
       "0             0         good 2009-06-18   \n",
       "1             0         good 2013-01-18   \n",
       "2             0         good 2011-11-29   \n",
       "3            13         good 2005-04-13   \n",
       "4             0          bad 2013-12-21   \n",
       "\n",
       "                                          clean_text  \\\n",
       "0  choose one product take care face rest life wo...   \n",
       "1  make skin lovely smooth woman near need help g...   \n",
       "2  work well reasonable price use regenerating se...   \n",
       "3  work lady try many product totally disappointe...   \n",
       "4  not like feel texture serum love oil olay prim...   \n",
       "\n",
       "                                              tokens  \n",
       "0  [choose, one, product, take, care, face, rest,...  \n",
       "1  [make, skin, lovely, smooth, woman, near, need...  \n",
       "2  [work, well, reasonable, price, use, regenerat...  \n",
       "3  [work, lady, try, many, product, totally, disa...  \n",
       "4  [not, like, feel, texture, serum, love, oil, o...  "
      ]
     },
     "execution_count": 57,
     "metadata": {},
     "output_type": "execute_result"
    }
   ],
   "source": [
    "# Apply tokenizer to create a new column named as tokens which consists of the list of the reviews\n",
    "tokenizer = RegexpTokenizer(r'\\w+')\n",
    "df2[\"tokens\"] = df2[\"clean_text\"].apply(tokenizer.tokenize)\n",
    "df2.head()"
   ]
  },
  {
   "cell_type": "code",
   "execution_count": 63,
   "metadata": {},
   "outputs": [
    {
     "name": "stdout",
     "output_type": "stream",
     "text": [
      "2023994 words total, with a vocabulary size of 27310\n",
      "Max review length is (word based) 1090\n",
      "Max review length is (word based) 1\n"
     ]
    }
   ],
   "source": [
    "# Tokens status\n",
    "all_words = [word for tokens in df2[\"tokens\"] for word in tokens]\n",
    "sentence_lengths = [len(tokens) for tokens in df2[\"tokens\"]]\n",
    "vocabulary = sorted(list(set(all_words)))\n",
    "print(\"%s words total, with a vocabulary size of %s\" % (len(all_words), len(vocabulary)))\n",
    "print(\"Max review length is (word based) %s\" % max(sentence_lengths))\n",
    "print(\"Max review length is (word based) %s\" % min(sentence_lengths))"
   ]
  },
  {
   "cell_type": "markdown",
   "metadata": {},
   "source": [
    "## Write dataframe to CSV file"
   ]
  },
  {
   "cell_type": "code",
   "execution_count": 64,
   "metadata": {},
   "outputs": [],
   "source": [
    "df2.to_csv('cleaned_review_beauty.csv', sep = ',', encoding = 'utf-8', index = False)"
   ]
  }
 ],
 "metadata": {
  "kernelspec": {
   "display_name": "Python 3",
   "language": "python",
   "name": "python3"
  },
  "language_info": {
   "codemirror_mode": {
    "name": "ipython",
    "version": 3
   },
   "file_extension": ".py",
   "mimetype": "text/x-python",
   "name": "python",
   "nbconvert_exporter": "python",
   "pygments_lexer": "ipython3",
   "version": "3.7.4"
  }
 },
 "nbformat": 4,
 "nbformat_minor": 2
}
